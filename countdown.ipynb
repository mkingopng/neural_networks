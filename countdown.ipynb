{
 "cells": [
  {
   "cell_type": "code",
   "execution_count": 3,
   "metadata": {
    "collapsed": true,
    "pycharm": {
     "name": "#%%\n"
    }
   },
   "outputs": [],
   "source": [
    "from datetime import datetime"
   ]
  },
  {
   "cell_type": "code",
   "execution_count": 4,
   "outputs": [],
   "source": [
    "start = datetime.strptime('Sep 5 2022  17:00', '%b %d %Y %H:%M')  # Monday of o-week\n",
    "quiz_1 = datetime.strptime('Sep 12 2022 17:00', '%b %d %Y %H:%M')  # I've got an extension of 1 week. this is the new date.\n",
    "quiz_2 = datetime.strptime('Sep 12 2022 17:00', '%b %d %Y %H:%M')  # original date. I can get an extension if necessary, but I would prefer not to.\n",
    "quiz_3 = datetime.strptime('Sep 19 2022 17:00', '%b %d %Y %H:%M')  # original date. I can get an extension if necessary, but I would prefer not to.\n",
    "quiz_4 = datetime.strptime('Oct 4 2022 17:00', '%b %d %Y %H:%M')  # I can get an extension if necessary, but I would prefer not to.\n",
    "assignment_2 = datetime.strptime('Sep 26 2022 17:00', '%b %d %Y %H:%M')  # original date. I can get an extension if necessary, but I would prefer not to.\n",
    "assignment_3 = datetime.strptime('Oct 11 2022 17:00', '%b %d %Y %H:%M')  # original date. I can get an extension if necessary, but I would prefer not to."
   ],
   "metadata": {
    "collapsed": false,
    "pycharm": {
     "name": "#%%\n"
    }
   }
  },
  {
   "cell_type": "code",
   "execution_count": 5,
   "outputs": [],
   "source": [
    "nowdate = datetime.now()\n",
    "count_1 = int((quiz_1 - nowdate).total_seconds())\n",
    "count_2 = int((quiz_2 - nowdate).total_seconds())\n",
    "count_3 = int((quiz_3 - nowdate).total_seconds())\n",
    "count_4 = int((quiz_4 - nowdate).total_seconds())\n",
    "count_5 = int((assignment_2 - nowdate).total_seconds())\n",
    "count_6 = int((assignment_3 - nowdate).total_seconds())"
   ],
   "metadata": {
    "collapsed": false,
    "pycharm": {
     "name": "#%%\n"
    }
   }
  },
  {
   "cell_type": "code",
   "execution_count": 6,
   "outputs": [
    {
     "name": "stdout",
     "output_type": "stream",
     "text": [
      "3 days 21 hours 0 minutes 40 seconds until quiz 1 for neural networks\n"
     ]
    }
   ],
   "source": [
    "# quiz_1\n",
    "days = count_1 // 86400\n",
    "hours = (count_1 - days * 86400) // 3600\n",
    "minutes = (count_1 - days * 86400 - hours * 3600) // 60\n",
    "seconds = count_1 - days * 86400 - hours * 3600 - minutes * 60\n",
    "print(f\"{days} days {hours} hours {minutes} minutes {seconds} seconds until quiz 1 for neural networks\")"
   ],
   "metadata": {
    "collapsed": false,
    "pycharm": {
     "name": "#%%\n"
    }
   }
  },
  {
   "cell_type": "code",
   "execution_count": 7,
   "outputs": [
    {
     "name": "stdout",
     "output_type": "stream",
     "text": [
      "3 days 21 hours 0 minutes 40 seconds until quiz 2 for neural networks\n"
     ]
    }
   ],
   "source": [
    "# quiz_2\n",
    "days = count_2 // 86400\n",
    "hours = (count_2 - days * 86400) // 3600\n",
    "minutes = (count_2 - days * 86400 - hours * 3600) // 60\n",
    "seconds = count_2 - days * 86400 - hours * 3600 - minutes * 60\n",
    "print(f\"{days} days {hours} hours {minutes} minutes {seconds} seconds until quiz 2 for neural networks\")"
   ],
   "metadata": {
    "collapsed": false,
    "pycharm": {
     "name": "#%%\n"
    }
   }
  },
  {
   "cell_type": "code",
   "execution_count": 8,
   "outputs": [
    {
     "name": "stdout",
     "output_type": "stream",
     "text": [
      "10 days 21 hours 0 minutes 40 seconds until quiz 3 for neural networks\n"
     ]
    }
   ],
   "source": [
    "# quiz_3\n",
    "days = count_3 // 86400\n",
    "hours = (count_3 - days * 86400) // 3600\n",
    "minutes = (count_3 - days * 86400 - hours * 3600) // 60\n",
    "seconds = count_3 - days * 86400 - hours * 3600 - minutes * 60\n",
    "print(f\"{days} days {hours} hours {minutes} minutes {seconds} seconds until quiz 3 for neural networks\")"
   ],
   "metadata": {
    "collapsed": false,
    "pycharm": {
     "name": "#%%\n"
    }
   }
  },
  {
   "cell_type": "code",
   "execution_count": 9,
   "outputs": [
    {
     "name": "stdout",
     "output_type": "stream",
     "text": [
      "25 days 21 hours 0 minutes 40 seconds until quiz 4 for neural networks\n"
     ]
    }
   ],
   "source": [
    "# quiz_4\n",
    "days = count_4 // 86400\n",
    "hours = (count_4 - days * 86400) // 3600\n",
    "minutes = (count_4 - days * 86400 - hours * 3600) // 60\n",
    "seconds = count_4 - days * 86400 - hours * 3600 - minutes * 60\n",
    "print(f\"{days} days {hours} hours {minutes} minutes {seconds} seconds until quiz 4 for neural networks\")"
   ],
   "metadata": {
    "collapsed": false,
    "pycharm": {
     "name": "#%%\n"
    }
   }
  },
  {
   "cell_type": "code",
   "execution_count": 10,
   "outputs": [
    {
     "name": "stdout",
     "output_type": "stream",
     "text": [
      "17 days 21 hours 0 minutes 40 seconds until assessment 2 for neural networks\n"
     ]
    }
   ],
   "source": [
    "# assignment_2\n",
    "days = count_5 // 86400\n",
    "hours = (count_5 - days * 86400) // 3600\n",
    "minutes = (count_5 - days * 86400 - hours * 3600) // 60\n",
    "seconds = count_5 - days * 86400 - hours * 3600 - minutes * 60\n",
    "print(f\"{days} days {hours} hours {minutes} minutes {seconds} seconds until assessment 2 for neural networks\")"
   ],
   "metadata": {
    "collapsed": false,
    "pycharm": {
     "name": "#%%\n"
    }
   }
  },
  {
   "cell_type": "code",
   "execution_count": 11,
   "outputs": [
    {
     "name": "stdout",
     "output_type": "stream",
     "text": [
      "32 days 21 hours 0 minutes 40 seconds until assessment 3 for neural networks\n"
     ]
    }
   ],
   "source": [
    "# assignment 3\n",
    "days = count_6 // 86400\n",
    "hours = (count_6 - days * 86400) // 3600\n",
    "minutes = (count_6 - days * 86400 - hours * 3600) // 60\n",
    "seconds = count_6 - days * 86400 - hours * 3600 - minutes * 60\n",
    "print(f\"{days} days {hours} hours {minutes} minutes {seconds} seconds until assessment 3 for neural networks\")"
   ],
   "metadata": {
    "collapsed": false,
    "pycharm": {
     "name": "#%%\n"
    }
   }
  }
 ],
 "metadata": {
  "kernelspec": {
   "display_name": "Python 3",
   "language": "python",
   "name": "python3"
  },
  "language_info": {
   "codemirror_mode": {
    "name": "ipython",
    "version": 2
   },
   "file_extension": ".py",
   "mimetype": "text/x-python",
   "name": "python",
   "nbconvert_exporter": "python",
   "pygments_lexer": "ipython2",
   "version": "2.7.6"
  }
 },
 "nbformat": 4,
 "nbformat_minor": 0
}