{
 "cells": [
  {
   "cell_type": "markdown",
   "source": [
    "# Python refresher\n",
    "You will be expected to edit or write Python code throughout this course.\n",
    "\n",
    "We assume that you already know Python, either from doing the course ZZEN9021 Principles of Programming or something equivalent, so we won't be teaching it to you. But here is a refresher on the aspects of Python that are particularly important for this course.\n",
    "\n",
    "# Printing\n",
    "You can print using the print() function. If you supply the function with multiple arguments it prints them all, separated by spaces:"
   ],
   "metadata": {
    "collapsed": false,
    "pycharm": {
     "name": "#%% md\n"
    }
   }
  },
  {
   "cell_type": "code",
   "execution_count": null,
   "outputs": [],
   "source": [
    "print('Hello')\n",
    "print('Hello' + ' ' + 'world')\n",
    "print('Hello', 'world')"
   ],
   "metadata": {
    "collapsed": false,
    "pycharm": {
     "name": "#%%\n"
    }
   }
  },
  {
   "cell_type": "markdown",
   "source": [
    "To print a tab character you can use `\\t`, and for a newline character you can use `\\n`:"
   ],
   "metadata": {
    "collapsed": false,
    "pycharm": {
     "name": "#%% md\n"
    }
   }
  },
  {
   "cell_type": "code",
   "execution_count": null,
   "outputs": [],
   "source": [
    "print('Hello' + ' ' + 'world')\n",
    "print('Hello' + '\\t' + 'world')\n",
    "print('Hello' + '\\n' + 'world')"
   ],
   "metadata": {
    "collapsed": false,
    "pycharm": {
     "name": "#%%\n"
    }
   }
  },
  {
   "cell_type": "markdown",
   "source": [
    "# Working with text\n",
    "You can find the length of a piece of text using the len() function:"
   ],
   "metadata": {
    "collapsed": false,
    "pycharm": {
     "name": "#%% md\n"
    }
   }
  },
  {
   "cell_type": "code",
   "execution_count": null,
   "outputs": [],
   "source": [
    "print(len('Hello'))"
   ],
   "metadata": {
    "collapsed": false,
    "pycharm": {
     "name": "#%%\n"
    }
   }
  },
  {
   "cell_type": "markdown",
   "source": [
    "You can strip whitespace from the ends of text using the strip() method:"
   ],
   "metadata": {
    "collapsed": false,
    "pycharm": {
     "name": "#%% md\n"
    }
   }
  },
  {
   "cell_type": "code",
   "execution_count": null,
   "outputs": [],
   "source": [
    "print(len('  Hello '))\n",
    "print(len('  Hello '.strip()))"
   ],
   "metadata": {
    "collapsed": false,
    "pycharm": {
     "name": "#%%\n"
    }
   }
  },
  {
   "cell_type": "markdown",
   "source": [
    "You can strip other characters by passing them as an argument string:"
   ],
   "metadata": {
    "collapsed": false,
    "pycharm": {
     "name": "#%% md\n"
    }
   }
  },
  {
   "cell_type": "code",
   "execution_count": null,
   "outputs": [],
   "source": [
    "print('Hello.'.strip())\n",
    "print('Hello.'.strip('.'))"
   ],
   "metadata": {
    "collapsed": false,
    "pycharm": {
     "name": "#%%\n"
    }
   }
  },
  {
   "cell_type": "markdown",
   "source": [
    "You can split a piece of text into a list using a certain character is the splitting point, using the split() method:"
   ],
   "metadata": {
    "collapsed": false,
    "pycharm": {
     "name": "#%% md\n"
    }
   }
  },
  {
   "cell_type": "code",
   "execution_count": null,
   "outputs": [],
   "source": [
    "passage = \"Hello. My name is Ben. I am 185cm tall.\"\n",
    "words = passage.split(' ')\n",
    "sentences = passage.split('.')\n",
    "print(words)\n",
    "print(sentences)"
   ],
   "metadata": {
    "collapsed": false,
    "pycharm": {
     "name": "#%%\n"
    }
   }
  },
  {
   "cell_type": "markdown",
   "source": [
    "# Working with lists\n",
    "You can create a list using a list literal:"
   ],
   "metadata": {
    "collapsed": false,
    "pycharm": {
     "name": "#%% md\n"
    }
   }
  },
  {
   "cell_type": "code",
   "execution_count": null,
   "outputs": [],
   "source": [
    "numbers = [1, 2, 3, 4, 5]\n",
    "print(numbers)"
   ],
   "metadata": {
    "collapsed": false,
    "pycharm": {
     "name": "#%%\n"
    }
   }
  },
  {
   "cell_type": "code",
   "execution_count": null,
   "outputs": [],
   "source": [
    "numbers = [1, 2, 3, 4, 5]\n",
    "print(len(numbers))"
   ],
   "metadata": {
    "collapsed": false,
    "pycharm": {
     "name": "#%%\n"
    }
   }
  },
  {
   "cell_type": "markdown",
   "source": [
    "You can access items in a list using the `[ ]` operator:"
   ],
   "metadata": {
    "collapsed": false,
    "pycharm": {
     "name": "#%% md\n"
    }
   }
  },
  {
   "cell_type": "code",
   "execution_count": null,
   "outputs": [],
   "source": [
    "numbers = [1, 2, 3, 4, 5]\n",
    "# Print the first item:\n",
    "print(numbers[0])\n",
    "# Print the last item:\n",
    "print(numbers[-1])"
   ],
   "metadata": {
    "collapsed": false,
    "pycharm": {
     "name": "#%%\n"
    }
   }
  },
  {
   "cell_type": "markdown",
   "source": [
    "You can loop through a list using a `for ... in ...` statement:"
   ],
   "metadata": {
    "collapsed": false,
    "pycharm": {
     "name": "#%% md\n"
    }
   }
  },
  {
   "cell_type": "code",
   "execution_count": null,
   "outputs": [],
   "source": [
    "numbers = [1, 2, 3, 4, 5]\n",
    "for n in numbers:\n",
    "    print(2 * n)"
   ],
   "metadata": {
    "collapsed": false,
    "pycharm": {
     "name": "#%%\n"
    }
   }
  },
  {
   "cell_type": "markdown",
   "source": [
    "You can join the items in a list into a string using the join() method. Note that this is a method of the joining text, not of the list:"
   ],
   "metadata": {
    "collapsed": false,
    "pycharm": {
     "name": "#%% md\n"
    }
   }
  },
  {
   "cell_type": "code",
   "execution_count": null,
   "outputs": [],
   "source": [
    "letters = ['h', 'e', 'l', 'l', 'o']\n",
    "print(''.join(letters))\n",
    "print('-'.join(letters))\n",
    "print('[ ]'.join(letters))"
   ],
   "metadata": {
    "collapsed": false,
    "pycharm": {
     "name": "#%%\n"
    }
   }
  },
  {
   "cell_type": "markdown",
   "source": [
    "## Working with dictionaries\n",
    "You can set and get values in a dictionary using the `[ ]` operator:"
   ],
   "metadata": {
    "collapsed": false,
    "pycharm": {
     "name": "#%% md\n"
    }
   }
  },
  {
   "cell_type": "code",
   "execution_count": null,
   "outputs": [],
   "source": [
    "pet_frequencies = {'dog': 17, 'cat': 12}\n",
    "print(pet_frequencies['dog'])\n",
    "pet_frequencies['mouse'] = 3\n",
    "print(pet_frequencies['mouse'])"
   ],
   "metadata": {
    "collapsed": false,
    "pycharm": {
     "name": "#%%\n"
    }
   }
  },
  {
   "cell_type": "markdown",
   "source": [
    "If you try to get the value of a key that doesn't exist you will get an error. To avoid this you can use the `get()` method, which return `None` if the key does not exist. You can optionally specify an alternative value to return if the key does not exist:"
   ],
   "metadata": {
    "collapsed": false,
    "pycharm": {
     "name": "#%% md\n"
    }
   }
  },
  {
   "cell_type": "code",
   "execution_count": null,
   "outputs": [],
   "source": [
    "pet_frequencies = {'dog': 17, 'cat': 12, 'mouse': 3}\n",
    "print(pet_frequencies.get('hare'))\n",
    "print(pet_frequencies.get('hare', 0))\n",
    "print(pet_frequencies.get('hare', 'No such pet'))"
   ],
   "metadata": {
    "collapsed": false,
    "pycharm": {
     "name": "#%%\n"
    }
   }
  },
  {
   "cell_type": "markdown",
   "source": [
    "You can get the keys of a dictionary as a list using the `keys()` method:"
   ],
   "metadata": {
    "collapsed": false,
    "pycharm": {
     "name": "#%% md\n"
    }
   }
  },
  {
   "cell_type": "code",
   "execution_count": null,
   "outputs": [],
   "source": [
    "pet_frequencies = {'dog': 17, 'cat': 12, 'mouse': 3}\n",
    "print(pet_frequencies.keys())"
   ],
   "metadata": {
    "collapsed": false,
    "pycharm": {
     "name": "#%%\n"
    }
   }
  },
  {
   "cell_type": "markdown",
   "source": [
    "You can iterate through the keys of a dictionary using a `for ... in ...` statement:"
   ],
   "metadata": {
    "collapsed": false,
    "pycharm": {
     "name": "#%% md\n"
    }
   }
  },
  {
   "cell_type": "code",
   "execution_count": null,
   "outputs": [],
   "source": [
    "pet_frequencies = {'dog': 17, 'cat': 12, 'mouse': 3}\n",
    "for key in pet_frequencies:\n",
    "    print(key, pet_frequencies[key])"
   ],
   "metadata": {
    "collapsed": false,
    "pycharm": {
     "name": "#%%\n"
    }
   }
  },
  {
   "cell_type": "markdown",
   "source": [
    "You can iterate through the key-value pairs of a dictionary by using the `items()` method:"
   ],
   "metadata": {
    "collapsed": false,
    "pycharm": {
     "name": "#%% md\n"
    }
   }
  },
  {
   "cell_type": "code",
   "execution_count": null,
   "outputs": [],
   "source": [
    "pet_frequencies = {'dog': 17, 'cat': 12, 'mouse': 3}\n",
    "for key, value in pet_frequencies.items():\n",
    "    print(key, value)"
   ],
   "metadata": {
    "collapsed": false,
    "pycharm": {
     "name": "#%%\n"
    }
   }
  },
  {
   "cell_type": "markdown",
   "source": [
    "## Type conversions\n",
    "You can get errors if you use a value of type int when Python is expecting a value of type str, and vice-versa."
   ],
   "metadata": {
    "collapsed": false,
    "pycharm": {
     "name": "#%% md\n"
    }
   }
  },
  {
   "cell_type": "code",
   "execution_count": null,
   "outputs": [],
   "source": [
    "word = 'Hello'\n",
    "number = 2\n",
    "print(word + number)"
   ],
   "metadata": {
    "collapsed": false,
    "pycharm": {
     "name": "#%%\n"
    }
   }
  },
  {
   "cell_type": "code",
   "execution_count": null,
   "outputs": [],
   "source": [
    "word = 'Hello'\n",
    "number = 2\n",
    "print(word/number)"
   ],
   "metadata": {
    "collapsed": false,
    "pycharm": {
     "name": "#%%\n"
    }
   }
  },
  {
   "cell_type": "markdown",
   "source": [
    "To avoid these errors you can force a value to be an int using the `int()` function, or a str using the `str()` function:"
   ],
   "metadata": {
    "collapsed": false,
    "pycharm": {
     "name": "#%% md\n"
    }
   }
  },
  {
   "cell_type": "code",
   "execution_count": null,
   "outputs": [],
   "source": [
    "word = 'Hello'\n",
    "number = 2\n",
    "print(word + str(number))"
   ],
   "metadata": {
    "collapsed": false,
    "pycharm": {
     "name": "#%%\n"
    }
   }
  },
  {
   "cell_type": "markdown",
   "source": [
    "# Built-in functions\n",
    "Python has many inbuilt functions. Here are some ones we will be using:"
   ],
   "metadata": {
    "collapsed": false,
    "pycharm": {
     "name": "#%% md\n"
    }
   }
  },
  {
   "cell_type": "code",
   "execution_count": null,
   "outputs": [],
   "source": [
    "# max() takes two or more arguments and returns the maximum value\n",
    "print(max(3, 5, 0, 4))\n",
    "\n",
    "# max() can also take a list as argument\n",
    "print(max([3, 5, 0, 4]))\n",
    "\n",
    "# sum() takes a list as argument and returns the sum of its elements\n",
    "print(sum([3, 5, 0, 4]))"
   ],
   "metadata": {
    "collapsed": false,
    "pycharm": {
     "name": "#%%\n"
    }
   }
  },
  {
   "cell_type": "markdown",
   "source": [
    "## Lambda functions\n",
    "By using the lambda keyword to you can have function literals (also called anonymous functions):"
   ],
   "metadata": {
    "collapsed": false,
    "pycharm": {
     "name": "#%% md\n"
    }
   }
  },
  {
   "cell_type": "code",
   "execution_count": null,
   "outputs": [],
   "source": [
    "add = lambda x, y: x + y\n",
    "print(add(3, 4))"
   ],
   "metadata": {
    "collapsed": false,
    "pycharm": {
     "name": "#%%\n"
    }
   }
  },
  {
   "cell_type": "markdown",
   "source": [
    "These are especially useful when using functions that take a function as argument, such as `map()`:"
   ],
   "metadata": {
    "collapsed": false,
    "pycharm": {
     "name": "#%% md\n"
    }
   }
  },
  {
   "cell_type": "code",
   "execution_count": null,
   "outputs": [],
   "source": [
    "words = ['dog', 'cat', 'mouse', 'goat', 'python']\n",
    "first_letters = map(lambda word: word[0], words)\n",
    "for letter in first_letters:\n",
    "    print(letter)"
   ],
   "metadata": {
    "collapsed": false,
    "pycharm": {
     "name": "#%%\n"
    }
   }
  },
  {
   "cell_type": "markdown",
   "source": [
    "## Yielding values\n",
    "Suppose you want a function to return a list of values, say the first five integers (whole numbers). Here's one way to do it:"
   ],
   "metadata": {
    "collapsed": false,
    "pycharm": {
     "name": "#%% md\n"
    }
   }
  },
  {
   "cell_type": "code",
   "execution_count": null,
   "outputs": [],
   "source": [
    "def numbers():\n",
    "    return [1,2,3,4,5]\n",
    "for x in numbers():\n",
    "    print(x)"
   ],
   "metadata": {
    "collapsed": false,
    "pycharm": {
     "name": "#%%\n"
    }
   }
  },
  {
   "cell_type": "markdown",
   "source": [
    "When numbers is called in line 3 it returns the list of numbers and the list gets put into memory. That's okay if the list is small, but if the list is large then it can put a strain on memory. And if all you are doing is looping through the list one-by-one then you don't need the whole list in memory anyway - you just need one item at a time. An alternative is to use the yield keyword:"
   ],
   "metadata": {
    "collapsed": false,
    "pycharm": {
     "name": "#%% md\n"
    }
   }
  },
  {
   "cell_type": "code",
   "execution_count": null,
   "outputs": [],
   "source": [
    "def numbers():\n",
    "    for x in [1, 2, 3, 4, 5]:\n",
    "        yield x\n",
    "for x in numbers():\n",
    "    print(x)"
   ],
   "metadata": {
    "collapsed": false,
    "pycharm": {
     "name": "#%%\n"
    }
   }
  },
  {
   "cell_type": "markdown",
   "source": [
    "In this case numbers does not return a list - it returns a generator. When you iterate through this generator in line 4 it generates the numbers one-by-one as they are needed.\n",
    "\n",
    "# Defining classes\n",
    "You can define your own class of objects using a class statement:"
   ],
   "metadata": {
    "collapsed": false,
    "pycharm": {
     "name": "#%% md\n"
    }
   }
  },
  {
   "cell_type": "code",
   "execution_count": 2,
   "outputs": [
    {
     "name": "stdout",
     "output_type": "stream",
     "text": [
      "Jacinda Ardern\n",
      "Ardern, Jacinda\n",
      "Ardern, J.\n"
     ]
    }
   ],
   "source": [
    "class Person:\n",
    "    def __init__(self, first_name, last_name):\n",
    "        self.first_name = first_name\n",
    "        self.last_name = last_name\n",
    "\n",
    "    def full_name(self):\n",
    "        return self.first_name + ' ' + self.last_name\n",
    "\n",
    "    def reverse_name(self, initial_only=False):\n",
    "        if initial_only:\n",
    "            return self.last_name + ', ' + self.first_name[0] + '.'\n",
    "        else:\n",
    "            return self.last_name + ', ' + self.first_name\n",
    "\n",
    "\n",
    "person = Person('Jacinda', 'Ardern')\n",
    "print(person.full_name())\n",
    "print(person.reverse_name())\n",
    "print(person.reverse_name(True))"
   ],
   "metadata": {
    "collapsed": false,
    "pycharm": {
     "name": "#%%\n"
    }
   }
  },
  {
   "cell_type": "markdown",
   "source": [
    "Instance methods have self as their first argument, and then optionally have further arguments. In the example above, the method `reverse_name()` has another argument.\n",
    "\n",
    "When defining a class you can specify that it extends another class, which means that it inherits the properties and methods of that class. You can add new properties and methods, and override inherited ones:"
   ],
   "metadata": {
    "collapsed": false,
    "pycharm": {
     "name": "#%% md\n"
    }
   }
  },
  {
   "cell_type": "code",
   "execution_count": 3,
   "outputs": [
    {
     "name": "stdout",
     "output_type": "stream",
     "text": [
      "Jacinda Ardern\n",
      "Master Stuart Simpson\n"
     ]
    }
   ],
   "source": [
    "class Person:\n",
    "    def __init__(self, first_name, last_name):\n",
    "        self.first_name = first_name\n",
    "        self.last_name = last_name\n",
    "\n",
    "    def full_name(self):\n",
    "        return self.first_name + ' ' + self.last_name\n",
    "\n",
    "class Boy(Person):\n",
    "    def full_name(self):\n",
    "        return 'Master ' + self.first_name + ' ' + self.last_name\n",
    "\n",
    "\n",
    "person = Person('Jacinda', 'Ardern')\n",
    "print(person.full_name())\n",
    "\n",
    "boy = Boy('Stuart', 'Simpson')\n",
    "print(boy.full_name())"
   ],
   "metadata": {
    "collapsed": false,
    "pycharm": {
     "name": "#%%\n"
    }
   }
  },
  {
   "cell_type": "markdown",
   "source": [
    "# Importing code\n",
    "You can import code from another program into your program:"
   ],
   "metadata": {
    "collapsed": false,
    "pycharm": {
     "name": "#%% md\n"
    }
   }
  },
  {
   "cell_type": "code",
   "execution_count": null,
   "outputs": [],
   "source": [
    "import math"
   ],
   "metadata": {
    "collapsed": false,
    "pycharm": {
     "name": "#%%\n"
    }
   }
  },
  {
   "cell_type": "markdown",
   "source": [
    "This makes all the code in the program math.py available for use in your program. For example, in `math.py` there is a function `floor()` which rounds a number down to the nearest whole number. Having imported `math.py` you can use this function in your program:"
   ],
   "metadata": {
    "collapsed": false,
    "pycharm": {
     "name": "#%% md\n"
    }
   }
  },
  {
   "cell_type": "code",
   "execution_count": null,
   "outputs": [],
   "source": [
    "import math\n",
    "print(math.floor(2.76))"
   ],
   "metadata": {
    "collapsed": false,
    "pycharm": {
     "name": "#%%\n"
    }
   }
  },
  {
   "cell_type": "markdown",
   "source": [
    "Note that you must attach a prefix to the function name when you use it: `math.floor()`. If you import the function directly using the `from` keyword, and then you don't need to use the prefix:"
   ],
   "metadata": {
    "collapsed": false,
    "pycharm": {
     "name": "#%% md\n"
    }
   }
  },
  {
   "cell_type": "code",
   "execution_count": null,
   "outputs": [],
   "source": [
    "from math import floor\n",
    "print(floor(2.76))"
   ],
   "metadata": {
    "collapsed": false,
    "pycharm": {
     "name": "#%%\n"
    }
   }
  },
  {
   "cell_type": "markdown",
   "source": [
    "Being able to import a program into other programs means that there are two ways that it can run: as the main program, or as an imported program. Python has a special variable `__name__` that you can use in the program to check whether it's running as the main program or as an imported program. If it's running as the main program then the value of `__name__` will be `\"__main__\"`, otherwise it will be the filename of the program. Suppose you have written the following program and called it \"myFunctions.py\":"
   ],
   "metadata": {
    "collapsed": false,
    "pycharm": {
     "name": "#%% md\n"
    }
   }
  },
  {
   "cell_type": "code",
   "execution_count": null,
   "outputs": [],
   "source": [
    "def triple(x):\n",
    "    return x * 3\n",
    "\n",
    "if __name__ == '__main__':\n",
    "    print(triple(6))"
   ],
   "metadata": {
    "collapsed": false,
    "pycharm": {
     "name": "#%%\n"
    }
   }
  },
  {
   "cell_type": "markdown",
   "source": [
    "When you run the program as the main program the value of `__name__` is `\"__main__\"`, so the last line is executed and 18 is printed. When you import the program into another program the value of `__name__` is \"myFunctions\", so the last line is not executed and 18 is not printed.\n",
    "\n",
    "# Using standard input\n",
    "If you'd like your program to use standard input you can use `sys.stdin`. A newline character marks the end of the input and is included in the input, so you often need to use `strip()` to remove it:"
   ],
   "metadata": {
    "collapsed": false,
    "pycharm": {
     "name": "#%% md\n"
    }
   }
  },
  {
   "cell_type": "code",
   "execution_count": null,
   "outputs": [],
   "source": [
    "import sys\n",
    "\n",
    "for line in sys.stdin:\n",
    "    line = line.strip()\n",
    "    if line == 'exit':\n",
    "        break\n",
    "    else:\n",
    "        print('You entered ' + line)\n",
    "\n",
    "print('Done')"
   ],
   "metadata": {
    "collapsed": false,
    "pycharm": {
     "name": "#%%\n"
    }
   }
  },
  {
   "cell_type": "markdown",
   "source": [
    "# Check yourself\n",
    "To check your Python skills, try writing the following two programs.\n",
    "\n",
    "## First program\n",
    "In the panel on the right is a program called \"words.py\". It has a variable called \"sentence\" whose value is a sentence from E.B. White's story \"Stuart Little\". Your task is to finish writing this program so that it prints the average length of words in the sentence, to two decimal places (be aware not to count commas and full stops).\n",
    "\n",
    "To run your program, enter the following command into the terminal:\n",
    "> $ python words.py\n",
    "\n",
    "The correct answer is 4.49"
   ],
   "metadata": {
    "collapsed": false,
    "pycharm": {
     "name": "#%% md\n"
    }
   }
  },
  {
   "cell_type": "code",
   "execution_count": null,
   "outputs": [],
   "source": [
    "sentence = \"In the loveliest town of all, where the houses were white and high and the elms trees were green and higher than the houses, where the front yards were wide and pleasant and the back yards were bushy and worth finding out about, where the streets sloped down to the stream and the stream flowed quietly under the bridge, where the lawns ended in orchards and the orchards ended in fields and the fields ended in pastures and the pastures climbed the hill and disappeared over the top toward the wonderful wide sky, in this loveliest of all towns Stuart stopped to get a drink of sarsaparilla.\"\n",
    "\n"
   ],
   "metadata": {
    "collapsed": false,
    "pycharm": {
     "name": "#%%\n"
    }
   }
  },
  {
   "cell_type": "markdown",
   "source": [
    "## Second program\n",
    "Also in the panel on the right is a program called \"sales.py\". It has a variable called \"sales\" whose value is a fictitious set of sales data. Sale items are separated by semicolons (;). Within a sale item there are three pieces of data, separated by commas (,): product id, quantity sold, and sale price in dollars. Your task is to finish writing this program so that it prints the total sales amount in dollars.\n",
    "\n",
    "To run your program, enter the following command into the terminal:\n",
    "> $ python sales.py\n",
    "\n",
    "The correct answer is $898.64\n",
    "\n",
    "Hint: You can split sales into its items using the `split()` method, and then loop through those items. And you can split each item into its three pieces of data also using the `split()` method."
   ],
   "metadata": {
    "collapsed": false,
    "pycharm": {
     "name": "#%% md\n"
    }
   }
  },
  {
   "cell_type": "code",
   "execution_count": null,
   "outputs": [],
   "source": [
    "sales = \"2543,4,4.34;5463,7,8.31;7765,10,1.23;9833,9,34.12;5056,4,5.67;7657,10,4.23;3343,7,2.98;3778,9,9.27;1118,5,8.23;3873,3,4.45;6588,2,5.67;5778,6,3.41;7765,11,2.23;9343,8,4.12;5057,5,4.67;7657,5,4.23;3356,7,4.98;3776,8,8.27;1228,5,7.23;3873,2,4.50\"\n",
    "\n"
   ],
   "metadata": {
    "collapsed": false,
    "pycharm": {
     "name": "#%%\n"
    }
   }
  },
  {
   "cell_type": "markdown",
   "source": [
    "# Refresh some more\n",
    "\n",
    "If you'd like to further refresh your Python skills there are two Python courses available to you as a UNSW student, at LinkedIn Learning.\n",
    "\n",
    "## Learning Python (2 hrs 11 mins)\n",
    "This course provides an overview of the installation process, basic Python syntax, how to construct and run a simple Python program, how to work with dates and times, how to read and write files, and how to retrieve and parse HTML, JSON, and XML data from the web. Topics include:\n",
    "- Installing Python\n",
    "- Choosing an editor or IDE\n",
    "- Working with variables and expressions\n",
    "- Writing loops\n",
    "- Using the date, time, and date time classes\n",
    "- Reading and writing files\n",
    "- Fetching internet data\n",
    "- Parsing and processing HTML\n",
    "\n",
    "## Advanced Python (2 hrs 27 mins)\n",
    "This course explains object-oriented programming with Python, how to log and track performance and user activity, how to port code from Python 2 to 3, and how to make your code more efficient and easier to read and maintain. Topics include:\n",
    "- Truth value testing\n",
    "- Template strings\n",
    "- Iterators\n",
    "- Transforms\n",
    "- Advanced Python functions\n",
    "- Advanced collections\n",
    "- Advanced classes and objects\n",
    "- Logging\n",
    "- Python comprehensions: list, dictionary and set"
   ],
   "metadata": {
    "collapsed": false,
    "pycharm": {
     "name": "#%% md\n"
    }
   }
  },
  {
   "cell_type": "markdown",
   "source": [],
   "metadata": {
    "collapsed": false,
    "pycharm": {
     "name": "#%% md\n"
    }
   }
  }
 ],
 "metadata": {
  "kernelspec": {
   "display_name": "Python 3",
   "language": "python",
   "name": "python3"
  },
  "language_info": {
   "codemirror_mode": {
    "name": "ipython",
    "version": 2
   },
   "file_extension": ".py",
   "mimetype": "text/x-python",
   "name": "python",
   "nbconvert_exporter": "python",
   "pygments_lexer": "ipython2",
   "version": "2.7.6"
  }
 },
 "nbformat": 4,
 "nbformat_minor": 0
}