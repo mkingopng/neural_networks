{
 "cells": [
  {
   "cell_type": "markdown",
   "source": [
    "# Getting started with Google Colab\n",
    "Executing a machine learning or deep learning algorithm on a large dataset usually requires a lot of computing resources. Many students do not have access to sufficient computing resources to efficiently train their deep learning models.\n",
    "\n",
    "To solve this, we introduce Google Colab, an incredible online cloud-based platform that allows you to train your models with GPUs or even TPUs for free.\n",
    "Introduction\n",
    "\n",
    "Colab is a product from Google Research which allows you to write and execute arbitrary python code through the browser, and is especially well suited to machine learning, data analysis and education. In short, Colab is google's flavour of Jupyter notebook which also provides free access to computing resources including GPUs.\n",
    "\n",
    "## Create a file in Colab\n",
    "- Go to Google Colab\n",
    "- Sign in with your Google account\n",
    "- Create a new notebook via File -> New notebook\n",
    "\n",
    "![](img_0.png)\n",
    "\n",
    "Since Colab runs entirely in the cloud via Google Drive, you can also create/open/share a notebook via Google Drive.\n",
    "\n",
    "## GPUs in Colab\n",
    "Colab gives you 12 hours of execution time which is sufficient to meet our computation needs for this course. To set up GPUS of your notebook in Colab, just click  Runtime -> Change runtime type -> Hardware accelerator -> GPU\n",
    "\n",
    "![](img_1.png)\n",
    "\n",
    "![](img_2.png)\n"
   ],
   "metadata": {
    "collapsed": false,
    "pycharm": {
     "name": "#%% md\n"
    }
   }
  }
 ],
 "metadata": {
  "kernelspec": {
   "display_name": "Python 3",
   "language": "python",
   "name": "python3"
  },
  "language_info": {
   "codemirror_mode": {
    "name": "ipython",
    "version": 2
   },
   "file_extension": ".py",
   "mimetype": "text/x-python",
   "name": "python",
   "nbconvert_exporter": "python",
   "pygments_lexer": "ipython2",
   "version": "2.7.6"
  }
 },
 "nbformat": 4,
 "nbformat_minor": 0
}