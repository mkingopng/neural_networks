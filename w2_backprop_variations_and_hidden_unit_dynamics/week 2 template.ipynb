{
 "cells": [
  {
   "cell_type": "markdown",
   "id": "3d7fed0f",
   "metadata": {},
   "source": [
    "derivation of least squares"
   ]
  },
  {
   "cell_type": "code",
   "execution_count": null,
   "id": "9e0d69ca",
   "metadata": {},
   "outputs": [],
   "source": []
  },
  {
   "cell_type": "markdown",
   "id": "9de1e492",
   "metadata": {},
   "source": [
    "# Softmax Exercise"
   ]
  },
  {
   "cell_type": "markdown",
   "id": "1faebd59",
   "metadata": {},
   "source": [
    "Question 1"
   ]
  },
  {
   "cell_type": "code",
   "execution_count": 41,
   "id": "2d7f57e5",
   "metadata": {},
   "outputs": [],
   "source": [
    "import torch as T"
   ]
  },
  {
   "cell_type": "code",
   "execution_count": 42,
   "id": "429ced08",
   "metadata": {},
   "outputs": [],
   "source": [
    "device = T.device(\"cpu\")"
   ]
  },
  {
   "cell_type": "code",
   "execution_count": 43,
   "id": "465f5cf2",
   "metadata": {},
   "outputs": [],
   "source": [
    "t1 = T.tensor([1.0, 2.0, 3.0], dtype=T.float32).to(device)\n",
    "sm = T.nn.functional.softmax(t1, dim=0)\n",
    "# lsm = T.nn.functional.log_softmax(t1, dim=0)\n",
    "# l_sm = T.log(T.nn.functional.softmax(t1, dim=0))"
   ]
  },
  {
   "cell_type": "code",
   "execution_count": 44,
   "id": "37442876",
   "metadata": {},
   "outputs": [
    {
     "name": "stdout",
     "output_type": "stream",
     "text": [
      "tensor t1        = tensor([1., 2., 3.])\n",
      "softmax(t1)      = tensor([0.0900, 0.2447, 0.6652])\n",
      "log_softmax(t1)  = tensor([-2.4076, -1.4076, -0.4076])\n",
      "log(softmax(t1)) = tensor([-2.4076, -1.4076, -0.4076])\n"
     ]
    }
   ],
   "source": [
    "T.set_printoptions(precision=4)\n",
    "print(\"tensor t1        = \", end=\"\"); print(t1)\n",
    "print(\"softmax(t1)      = \", end=\"\"); print(sm)\n",
    "# print(\"log_softmax(t1)  = \", end=\"\"); print(lsm)\n",
    "# print(\"log(softmax(t1)) = \", end=\"\"); print(l_sm)"
   ]
  },
  {
   "cell_type": "markdown",
   "id": "da5c85f1",
   "metadata": {},
   "source": [
    "### question 2\n",
    "Compute each of the following, to two decimal places:\n",
    "\n",
    "d(log Prob(2))/$dz_1$\n",
    "\n",
    "d(log Prob(2))/$dz_2$\n",
    "\n",
    "d(log Prob(2))/$dz_3$"
   ]
  },
  {
   "cell_type": "code",
   "execution_count": null,
   "id": "6b157b49",
   "metadata": {},
   "outputs": [],
   "source": []
  },
  {
   "cell_type": "markdown",
   "id": "481f86fb",
   "metadata": {},
   "source": [
    "### Question 3\n",
    "Consider a degenerate case of supervised learning where the training set consists of just a single\n",
    "input, repeated 100 times. \n",
    "\n",
    "In 80 of the 100 cases, the target output value is 1; in the other 20, it is 0.\n",
    "\n",
    "What will a back-propagation neural network predict for this example, assuming that it has been\n",
    "trained and reaches a global minimum? Does it make a difierence whether the loss function is sum\n",
    "squared error or cross entropy? \n",
    "\n",
    "(**Hint**: to find the global minimum, differentiate the loss function and\n",
    "set the derivative to zero.)\n",
    "\n",
    "calculate the SSE and Cross Entropy"
   ]
  },
  {
   "cell_type": "markdown",
   "id": "46616951",
   "metadata": {},
   "source": [
    "### 3a: Sum of Squared Errors\n",
    "$E = \\dfrac{1}{2} \\sum_{i}(t_i - z_i)^2$"
   ]
  },
  {
   "cell_type": "code",
   "execution_count": 31,
   "id": "ddb4be8c",
   "metadata": {},
   "outputs": [],
   "source": [
    "from sympy import *"
   ]
  },
  {
   "cell_type": "code",
   "execution_count": 32,
   "id": "291fc22d",
   "metadata": {},
   "outputs": [],
   "source": [
    "z = symbols('z')"
   ]
  },
  {
   "cell_type": "code",
   "execution_count": 33,
   "id": "b187ca9e",
   "metadata": {},
   "outputs": [
    {
     "data": {
      "text/latex": [
       "$\\displaystyle - 80 \\log{\\left(z \\right)} - 20 \\log{\\left(1 - z \\right)}$"
      ],
      "text/plain": [
       "-80*log(z) - 20*log(1 - z)"
      ]
     },
     "execution_count": 33,
     "metadata": {},
     "output_type": "execute_result"
    }
   ],
   "source": [
    "expr = -80 * log(z) - 20 * log(1-z)\n",
    "expr"
   ]
  },
  {
   "cell_type": "code",
   "execution_count": 34,
   "id": "452378f7",
   "metadata": {},
   "outputs": [
    {
     "data": {
      "text/latex": [
       "$\\displaystyle \\frac{20}{1 - z} - \\frac{80}{z}$"
      ],
      "text/plain": [
       "20/(1 - z) - 80/z"
      ]
     },
     "execution_count": 34,
     "metadata": {},
     "output_type": "execute_result"
    }
   ],
   "source": [
    "expr_1 = diff(expr, z)\n",
    "expr_1"
   ]
  },
  {
   "cell_type": "code",
   "execution_count": 35,
   "id": "325aa36f",
   "metadata": {},
   "outputs": [
    {
     "data": {
      "text/plain": [
       "[4/5]"
      ]
     },
     "execution_count": 35,
     "metadata": {},
     "output_type": "execute_result"
    }
   ],
   "source": [
    "solve(expr_1)  # this is equivalent to 0.8"
   ]
  },
  {
   "cell_type": "markdown",
   "id": "a43a4f85",
   "metadata": {},
   "source": [
    "### 3b: Cross Entropy\n",
    "$E = \\sum_{i} (-t_i\\log(z_i) - (1-t_i)\\log(1-z_i)$"
   ]
  },
  {
   "cell_type": "code",
   "execution_count": 38,
   "id": "f38855bb",
   "metadata": {},
   "outputs": [
    {
     "data": {
      "text/latex": [
       "$\\displaystyle - 80 \\log{\\left(z \\right)} - 20 \\log{\\left(1 - z \\right)}$"
      ],
      "text/plain": [
       "-80*log(z) - 20*log(1 - z)"
      ]
     },
     "execution_count": 38,
     "metadata": {},
     "output_type": "execute_result"
    }
   ],
   "source": [
    "expr = -80 * log(z) - 20 * log(1 - z)\n",
    "expr"
   ]
  },
  {
   "cell_type": "code",
   "execution_count": 39,
   "id": "2a993dcc",
   "metadata": {},
   "outputs": [
    {
     "data": {
      "text/latex": [
       "$\\displaystyle \\frac{20}{1 - z} - \\frac{80}{z}$"
      ],
      "text/plain": [
       "20/(1 - z) - 80/z"
      ]
     },
     "execution_count": 39,
     "metadata": {},
     "output_type": "execute_result"
    }
   ],
   "source": [
    "expr_2 = diff(expr, z)\n",
    "expr_2"
   ]
  },
  {
   "cell_type": "code",
   "execution_count": 40,
   "id": "18c9cc0e",
   "metadata": {},
   "outputs": [
    {
     "data": {
      "text/plain": [
       "[4/5]"
      ]
     },
     "execution_count": 40,
     "metadata": {},
     "output_type": "execute_result"
    }
   ],
   "source": [
    "solve(expr_2)  # this is equivalent to 0.8"
   ]
  },
  {
   "cell_type": "code",
   "execution_count": null,
   "id": "eabc0088",
   "metadata": {},
   "outputs": [],
   "source": []
  },
  {
   "cell_type": "code",
   "execution_count": null,
   "id": "4b74009a",
   "metadata": {},
   "outputs": [],
   "source": []
  },
  {
   "cell_type": "code",
   "execution_count": null,
   "id": "e9962927",
   "metadata": {},
   "outputs": [],
   "source": []
  },
  {
   "cell_type": "code",
   "execution_count": null,
   "id": "f05ef526",
   "metadata": {},
   "outputs": [],
   "source": []
  },
  {
   "cell_type": "markdown",
   "id": "d1e594a5",
   "metadata": {},
   "source": [
    "Compute cross entropy"
   ]
  },
  {
   "cell_type": "code",
   "execution_count": null,
   "id": "c850820c",
   "metadata": {},
   "outputs": [],
   "source": []
  },
  {
   "cell_type": "markdown",
   "id": "1f9148fc",
   "metadata": {},
   "source": [
    "compute softmax"
   ]
  },
  {
   "cell_type": "code",
   "execution_count": null,
   "id": "540bd711",
   "metadata": {},
   "outputs": [],
   "source": []
  },
  {
   "cell_type": "markdown",
   "id": "42afbe90",
   "metadata": {},
   "source": [
    "compute weight decay"
   ]
  },
  {
   "cell_type": "code",
   "execution_count": null,
   "id": "2becb111",
   "metadata": {},
   "outputs": [],
   "source": []
  },
  {
   "cell_type": "markdown",
   "id": "22813c0c",
   "metadata": {},
   "source": [
    "compute momentum"
   ]
  },
  {
   "cell_type": "code",
   "execution_count": null,
   "id": "15a1c29b",
   "metadata": {},
   "outputs": [],
   "source": []
  },
  {
   "cell_type": "markdown",
   "id": "87d24a53",
   "metadata": {},
   "source": [
    "code simple pytorch operations"
   ]
  },
  {
   "cell_type": "code",
   "execution_count": null,
   "id": "d67762e3",
   "metadata": {},
   "outputs": [],
   "source": []
  },
  {
   "cell_type": "markdown",
   "id": "f8536904",
   "metadata": {},
   "source": [
    "analyse the geometry of hidden unit activations in neural networks"
   ]
  },
  {
   "cell_type": "code",
   "execution_count": null,
   "id": "34ceae0e",
   "metadata": {},
   "outputs": [],
   "source": []
  },
  {
   "cell_type": "code",
   "execution_count": null,
   "id": "ab5a2d18",
   "metadata": {},
   "outputs": [],
   "source": []
  }
 ],
 "metadata": {
  "kernelspec": {
   "display_name": "Python 3 (ipykernel)",
   "language": "python",
   "name": "python3"
  },
  "language_info": {
   "codemirror_mode": {
    "name": "ipython",
    "version": 3
   },
   "file_extension": ".py",
   "mimetype": "text/x-python",
   "name": "python",
   "nbconvert_exporter": "python",
   "pygments_lexer": "ipython3",
   "version": "3.10.4"
  }
 },
 "nbformat": 4,
 "nbformat_minor": 5
}
