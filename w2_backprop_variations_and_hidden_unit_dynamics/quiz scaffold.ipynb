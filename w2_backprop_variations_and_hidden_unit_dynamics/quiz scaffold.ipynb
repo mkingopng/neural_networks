{
 "cells": [
  {
   "cell_type": "markdown",
   "source": [
    "# Softmax\n",
    "\n",
    "the formula for Softmax is:\n",
    "\n",
    "$$\\text{Prob}(i) = \\dfrac{\\exp(z_i)}{\\sum_{N}^{j=1} \\exp(z_j)}$$\n",
    "\n",
    "$$\\log\\text{Prob}(i) = z_i - \\log \\sum_{j=1}^{N} \\exp(z_j)$$\n",
    "\n",
    "Consider a classification task with three classes $1$, $2$, $3$. Suppose a particular input is presented, producing outputs:\n",
    "$$z_1 = 1$$\n",
    "$$z_2 = 2$$\n",
    "$$z_3 = 3$$\n",
    "\n",
    "and that the correct class is 2\n",
    "\n",
    "Compute each of the following to 2dp:\n",
    "- Prob(1)\n",
    "- Prob(2)\n",
    "- Prob(3)"
   ],
   "metadata": {
    "collapsed": false,
    "pycharm": {
     "name": "#%% md\n"
    }
   }
  },
  {
   "cell_type": "code",
   "execution_count": 2,
   "outputs": [
    {
     "name": "stdout",
     "output_type": "stream",
     "text": [
      "tensor t1        = tensor([1., 2., 3.])\n",
      "softmax(t1)      = tensor([0.0900, 0.2447, 0.6652])\n"
     ]
    }
   ],
   "source": [
    "import torch as T\n",
    "device = T.device(\"cpu\")\n",
    "t1 = T.tensor([1.0, 2.0, 3.0], dtype=T.float32).to(device)\n",
    "sm = T.nn.functional.softmax(t1, dim=0)\n",
    "T.set_printoptions(precision=4)\n",
    "print(\"tensor t1        = \", end=\"\"); print(t1)\n",
    "print(\"softmax(t1)      = \", end=\"\"); print(sm)"
   ],
   "metadata": {
    "collapsed": false,
    "pycharm": {
     "name": "#%%\n"
    }
   }
  },
  {
   "cell_type": "markdown",
   "source": [
    "In 80 of the 100 cases, the target output value is 1; in the other 20, it is 0."
   ],
   "metadata": {
    "collapsed": false,
    "pycharm": {
     "name": "#%% md\n"
    }
   }
  },
  {
   "cell_type": "markdown",
   "source": [
    "### Sum of Squared Errors\n",
    "$$E = \\dfrac{1}{2} \\sum_{i}(t_i - z_i)^2$$"
   ],
   "metadata": {
    "collapsed": false,
    "pycharm": {
     "name": "#%% md\n"
    }
   }
  },
  {
   "cell_type": "code",
   "execution_count": 3,
   "outputs": [],
   "source": [
    "from sympy import *\n",
    "z = symbols('z')"
   ],
   "metadata": {
    "collapsed": false,
    "pycharm": {
     "name": "#%%\n"
    }
   }
  },
  {
   "cell_type": "code",
   "execution_count": 4,
   "outputs": [
    {
     "data": {
      "text/plain": "-80*log(z) - 20*log(1 - z)",
      "text/latex": "$\\displaystyle - 80 \\log{\\left(z \\right)} - 20 \\log{\\left(1 - z \\right)}$"
     },
     "execution_count": 4,
     "metadata": {},
     "output_type": "execute_result"
    }
   ],
   "source": [
    "expr = -80 * log(z) - 20 * log(1-z)\n",
    "expr"
   ],
   "metadata": {
    "collapsed": false,
    "pycharm": {
     "name": "#%%\n"
    }
   }
  },
  {
   "cell_type": "code",
   "execution_count": 5,
   "outputs": [
    {
     "data": {
      "text/plain": "20/(1 - z) - 80/z",
      "text/latex": "$\\displaystyle \\frac{20}{1 - z} - \\frac{80}{z}$"
     },
     "execution_count": 5,
     "metadata": {},
     "output_type": "execute_result"
    }
   ],
   "source": [
    "expr_1 = diff(expr, z)\n",
    "expr_1"
   ],
   "metadata": {
    "collapsed": false,
    "pycharm": {
     "name": "#%%\n"
    }
   }
  },
  {
   "cell_type": "code",
   "execution_count": 6,
   "outputs": [
    {
     "data": {
      "text/plain": "[4/5]"
     },
     "execution_count": 6,
     "metadata": {},
     "output_type": "execute_result"
    }
   ],
   "source": [
    "solve(expr_1)  # this is equivalent to 0.8"
   ],
   "metadata": {
    "collapsed": false,
    "pycharm": {
     "name": "#%%\n"
    }
   }
  },
  {
   "cell_type": "markdown",
   "source": [
    "### Cross Entropy\n",
    "$$E = \\sum_{i} (-t_i\\log(z_i) - (1-t_i)\\log(1-z_i)$$"
   ],
   "metadata": {
    "collapsed": false,
    "pycharm": {
     "name": "#%% md\n"
    }
   }
  },
  {
   "cell_type": "code",
   "execution_count": 7,
   "metadata": {
    "collapsed": true,
    "pycharm": {
     "name": "#%%\n"
    }
   },
   "outputs": [
    {
     "data": {
      "text/plain": "20/(1 - z) - 80/z",
      "text/latex": "$\\displaystyle \\frac{20}{1 - z} - \\frac{80}{z}$"
     },
     "execution_count": 7,
     "metadata": {},
     "output_type": "execute_result"
    }
   ],
   "source": [
    "expr_2 = diff(expr, z)\n",
    "expr_2"
   ]
  },
  {
   "cell_type": "code",
   "execution_count": 8,
   "outputs": [
    {
     "data": {
      "text/plain": "[4/5]"
     },
     "execution_count": 8,
     "metadata": {},
     "output_type": "execute_result"
    }
   ],
   "source": [
    "solve(expr_2)  # this is equivalent to 0.8"
   ],
   "metadata": {
    "collapsed": false,
    "pycharm": {
     "name": "#%%\n"
    }
   }
  },
  {
   "cell_type": "code",
   "execution_count": 8,
   "outputs": [],
   "source": [],
   "metadata": {
    "collapsed": false,
    "pycharm": {
     "name": "#%%\n"
    }
   }
  },
  {
   "cell_type": "markdown",
   "source": [
    "# SSE & Cross Entropy\n",
    "\n",
    "Consider a degenerate case of supervised learning where the training set consists of just a single input, repeated 100 times.\n",
    "\n",
    "In 80 of the 100 cases, the target output value is 1; in the other 20, it is 0.\n",
    "\n",
    "What will a back-propagation neural network predict for this example, assuming that it has been trained and reaches a global minimum? Does it make a difference whether the loss function is sum squared error or cross entropy?\n",
    "\n",
    "(**Hint**: to find the global minimum, differentiate the loss function and set the derivative to zero.)\n",
    "\n",
    "calculate the SSE and Cross Entropy"
   ],
   "metadata": {
    "collapsed": false,
    "pycharm": {
     "name": "#%% md\n"
    }
   }
  },
  {
   "cell_type": "markdown",
   "source": [
    "# Sum of Squared Errors\n",
    "$$E = \\dfrac{1}{2} \\sum_{i}(t_i - z_i)^2$$"
   ],
   "metadata": {
    "collapsed": false,
    "pycharm": {
     "name": "#%% md\n"
    }
   }
  },
  {
   "cell_type": "code",
   "execution_count": 9,
   "outputs": [],
   "source": [
    "from sympy import *\n",
    "z = symbols('z')"
   ],
   "metadata": {
    "collapsed": false,
    "pycharm": {
     "name": "#%%\n"
    }
   }
  },
  {
   "cell_type": "code",
   "execution_count": 10,
   "outputs": [
    {
     "data": {
      "text/plain": "-80*log(z) - 20*log(1 - z)",
      "text/latex": "$\\displaystyle - 80 \\log{\\left(z \\right)} - 20 \\log{\\left(1 - z \\right)}$"
     },
     "execution_count": 10,
     "metadata": {},
     "output_type": "execute_result"
    }
   ],
   "source": [
    "expr = -80 * log(z) - 20 * log(1-z)\n",
    "expr"
   ],
   "metadata": {
    "collapsed": false,
    "pycharm": {
     "name": "#%%\n"
    }
   }
  },
  {
   "cell_type": "code",
   "execution_count": 11,
   "outputs": [
    {
     "data": {
      "text/plain": "20/(1 - z) - 80/z",
      "text/latex": "$\\displaystyle \\frac{20}{1 - z} - \\frac{80}{z}$"
     },
     "execution_count": 11,
     "metadata": {},
     "output_type": "execute_result"
    }
   ],
   "source": [
    "expr_1 = diff(expr, z)\n",
    "expr_1"
   ],
   "metadata": {
    "collapsed": false,
    "pycharm": {
     "name": "#%%\n"
    }
   }
  },
  {
   "cell_type": "code",
   "execution_count": 12,
   "outputs": [
    {
     "data": {
      "text/plain": "[4/5]"
     },
     "execution_count": 12,
     "metadata": {},
     "output_type": "execute_result"
    }
   ],
   "source": [
    "solve(expr_1)  # this is equivalent to 0.8"
   ],
   "metadata": {
    "collapsed": false,
    "pycharm": {
     "name": "#%%\n"
    }
   }
  },
  {
   "cell_type": "markdown",
   "source": [
    "# Cross Entropy\n",
    "$$E = \\sum_{i} (-t_i\\log(z_i) - (1-t_i)\\log(1-z_i)$$"
   ],
   "metadata": {
    "collapsed": false,
    "pycharm": {
     "name": "#%% md\n"
    }
   }
  },
  {
   "cell_type": "code",
   "execution_count": 13,
   "outputs": [
    {
     "data": {
      "text/plain": "20/(1 - z) - 80/z",
      "text/latex": "$\\displaystyle \\frac{20}{1 - z} - \\frac{80}{z}$"
     },
     "execution_count": 13,
     "metadata": {},
     "output_type": "execute_result"
    }
   ],
   "source": [
    "expr_2 = diff(expr, z)\n",
    "expr_2"
   ],
   "metadata": {
    "collapsed": false,
    "pycharm": {
     "name": "#%%\n"
    }
   }
  },
  {
   "cell_type": "code",
   "execution_count": 14,
   "outputs": [
    {
     "data": {
      "text/plain": "[4/5]"
     },
     "execution_count": 14,
     "metadata": {},
     "output_type": "execute_result"
    }
   ],
   "source": [
    "solve(expr_2)  # this is equivalent to 0.8"
   ],
   "metadata": {
    "collapsed": false,
    "pycharm": {
     "name": "#%%\n"
    }
   }
  },
  {
   "cell_type": "markdown",
   "source": [
    "### derivation of least squares"
   ],
   "metadata": {
    "collapsed": false,
    "pycharm": {
     "name": "#%% md\n"
    }
   }
  },
  {
   "cell_type": "code",
   "execution_count": 14,
   "outputs": [],
   "source": [],
   "metadata": {
    "collapsed": false,
    "pycharm": {
     "name": "#%%\n"
    }
   }
  },
  {
   "cell_type": "markdown",
   "source": [
    "### compute softmax"
   ],
   "metadata": {
    "collapsed": false,
    "pycharm": {
     "name": "#%% md\n"
    }
   }
  },
  {
   "cell_type": "code",
   "execution_count": 14,
   "outputs": [],
   "source": [],
   "metadata": {
    "collapsed": false,
    "pycharm": {
     "name": "#%%\n"
    }
   }
  },
  {
   "cell_type": "markdown",
   "source": [
    "### compute weight decay"
   ],
   "metadata": {
    "collapsed": false,
    "pycharm": {
     "name": "#%% md\n"
    }
   }
  },
  {
   "cell_type": "code",
   "execution_count": 14,
   "outputs": [],
   "source": [],
   "metadata": {
    "collapsed": false,
    "pycharm": {
     "name": "#%%\n"
    }
   }
  },
  {
   "cell_type": "markdown",
   "source": [
    "### compute momentum"
   ],
   "metadata": {
    "collapsed": false,
    "pycharm": {
     "name": "#%% md\n"
    }
   }
  },
  {
   "cell_type": "code",
   "execution_count": 14,
   "outputs": [],
   "source": [],
   "metadata": {
    "collapsed": false,
    "pycharm": {
     "name": "#%%\n"
    }
   }
  }
 ],
 "metadata": {
  "kernelspec": {
   "display_name": "Python 3",
   "language": "python",
   "name": "python3"
  },
  "language_info": {
   "codemirror_mode": {
    "name": "ipython",
    "version": 2
   },
   "file_extension": ".py",
   "mimetype": "text/x-python",
   "name": "python",
   "nbconvert_exporter": "python",
   "pygments_lexer": "ipython2",
   "version": "2.7.6"
  }
 },
 "nbformat": 4,
 "nbformat_minor": 0
}