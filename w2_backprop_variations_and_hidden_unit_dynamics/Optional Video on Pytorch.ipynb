{
 "cells": [
  {
   "cell_type": "markdown",
   "source": [
    "# PyTorch Examples\n",
    "typical structure of a PyTorch Program"
   ],
   "metadata": {
    "collapsed": false,
    "pycharm": {
     "name": "#%% md\n"
    }
   }
  },
  {
   "cell_type": "code",
   "execution_count": null,
   "outputs": [],
   "source": [
    "from torch import *\n",
    "from torch.utils.data import DataLoader\n",
    "from torch.optim import Adam\n",
    "from torch import cuda\n",
    "import torch.nn as nn"
   ],
   "metadata": {
    "collapsed": false,
    "pycharm": {
     "name": "#%%\n"
    }
   }
  },
  {
   "cell_type": "markdown",
   "source": [
    "consider the function $(x, y) \\mapto  $"
   ],
   "metadata": {
    "collapsed": false,
    "pycharm": {
     "name": "#%% md\n"
    }
   }
  },
  {
   "cell_type": "code",
   "execution_count": null,
   "outputs": [],
   "source": [
    "# define a model. Define the structure of the network here\n",
    "class MyModel(torch.nn.Module):\n",
    "    def __init__(self):\n",
    "        super(MyModel, self).__init__()\n",
    "        self.A = nn.Parameter(torch.randn(1, requires_grad))\n",
    "        self.B = nn.Parameter(torch.randn(1, requires_grad))\n",
    "\n",
    "    def forward(self, input):                    # indexes every item in a minibatch\n",
    "        output = self.A * input * torch.log(input[:,]) + self.B * input[:,1] * input[:,]\n",
    "        return output  # apply network and return output               # index 1 is the y-axis"
   ],
   "metadata": {
    "collapsed": false,
    "pycharm": {
     "name": "#%%\n"
    }
   }
  },
  {
   "cell_type": "markdown",
   "source": [
    "### This is the deep version of the XOR network"
   ],
   "metadata": {
    "collapsed": false,
    "pycharm": {
     "name": "#%% md\n"
    }
   }
  },
  {
   "cell_type": "code",
   "execution_count": null,
   "outputs": [],
   "source": [
    "class MyDeepModel(torch.nn.Module):\n",
    "    def __init__(self):\n",
    "        super(MyDeepModel, self).__init__()  # here we're using predefined pytorch modules\n",
    "        self.in_to_hid = torch.nn.Linear(2, 2)  # here we're saying that this model is going to have a component called in_to_hid, which is a linear module, from 2 to 2.\n",
    "        self.hid_to_out = torch.nn.Linear(2, 1)  # this is another linear layer that goes from 2 to 1. If we wrote this as a matrix multiplication we would possibly swap the order. You may have to do a transfer sometimes.\n",
    "\n",
    "    def forward(self, input):  #\n",
    "        hid_sum = self.in_to_hid(input)  # takes the input and multiplies it by this matrix\n",
    "        hidden = torch.tanh(hid_sum)  # then we apply the activation function\n",
    "        out_sum = self.hid_to_out(hidden)  # matrix multiplication to reduce from 2 to 1\n",
    "        output = torch.sigmoid(out_sum)  # then we apply the sigmoid\n",
    "        return(output)"
   ],
   "metadata": {
    "collapsed": false,
    "pycharm": {
     "name": "#%%\n"
    }
   }
  },
  {
   "cell_type": "markdown",
   "source": [
    "### Defining a sequential network\n",
    "uses a sequential construction approach. A lot of networks are built up like this.\n",
    "\n",
    "if you wanted to have a more complicated structures you could define a few of these sequential things and then in the forward you could concatenate things together and that sort of thing.\n",
    "\n",
    "In this case it does the same thing, its just a different structure"
   ],
   "metadata": {
    "collapsed": false,
    "pycharm": {
     "name": "#%% md\n"
    }
   }
  },
  {
   "cell_type": "code",
   "execution_count": null,
   "outputs": [],
   "source": [
    "class MySequentialModel(torch.nn.Module):\n",
    "    def __init__(self, num_input, num_hid, num_out):  #\n",
    "        super(MySequentialModel, self).__init__()  #\n",
    "        self.main = nn.Sequential(  #\n",
    "            nn.Linear(num_input, num_hid),\n",
    "            nn.Linear(num_hid, num_out),\n",
    "            nn.Sigmoid()\n",
    "        )\n",
    "    def forward(self, input):\n",
    "        output = self. main(input)\n",
    "        return output"
   ],
   "metadata": {
    "collapsed": false,
    "pycharm": {
     "name": "#%%\n"
    }
   }
  },
  {
   "cell_type": "markdown",
   "source": [
    "12:37"
   ],
   "metadata": {
    "collapsed": false,
    "pycharm": {
     "name": "#%% md\n"
    }
   }
  },
  {
   "cell_type": "code",
   "execution_count": null,
   "metadata": {
    "collapsed": true,
    "pycharm": {
     "name": "#%%\n"
    }
   },
   "outputs": [],
   "source": [
    "params = ()  # set the parameters\n",
    "\n",
    "device = 'cuda' if cuda.is_available() else 'cpu'  # set the device\n",
    "\n",
    "# create a neural network according to model specification\n",
    "net = MyModel().to(device)  # cpu or GPU, need to define the MyModel class\n",
    "\n",
    "train_loader = DataLoader()\n",
    "test_loader = DataLoader()\n",
    "\n",
    "# choose between SGD, Adam or other optimizer. Everyone chooses Adam\n",
    "optimizer = Adam()\n",
    "\n",
    "epochs = 5  # change this as required\n",
    "\n",
    "for epoch in range(1, epochs):\n",
    "    train(params. net, device, train_loader, optimizer)  # fix_me\n",
    "    if epoch % 10 == 0:  # fix_me\n",
    "        test(params, net, device, test_loader)"
   ]
  },
  {
   "cell_type": "markdown",
   "source": [],
   "metadata": {
    "collapsed": false,
    "pycharm": {
     "name": "#%% md\n"
    }
   }
  },
  {
   "cell_type": "code",
   "execution_count": null,
   "outputs": [],
   "source": [],
   "metadata": {
    "collapsed": false,
    "pycharm": {
     "name": "#%%\n"
    }
   }
  },
  {
   "cell_type": "markdown",
   "source": [],
   "metadata": {
    "collapsed": false,
    "pycharm": {
     "name": "#%% md\n"
    }
   }
  },
  {
   "cell_type": "code",
   "execution_count": null,
   "outputs": [],
   "source": [],
   "metadata": {
    "collapsed": false,
    "pycharm": {
     "name": "#%%\n"
    }
   }
  },
  {
   "cell_type": "markdown",
   "source": [],
   "metadata": {
    "collapsed": false,
    "pycharm": {
     "name": "#%% md\n"
    }
   }
  },
  {
   "cell_type": "code",
   "execution_count": null,
   "outputs": [],
   "source": [],
   "metadata": {
    "collapsed": false,
    "pycharm": {
     "name": "#%%\n"
    }
   }
  },
  {
   "cell_type": "markdown",
   "source": [],
   "metadata": {
    "collapsed": false,
    "pycharm": {
     "name": "#%% md\n"
    }
   }
  }
 ],
 "metadata": {
  "kernelspec": {
   "display_name": "Python 3",
   "language": "python",
   "name": "python3"
  },
  "language_info": {
   "codemirror_mode": {
    "name": "ipython",
    "version": 2
   },
   "file_extension": ".py",
   "mimetype": "text/x-python",
   "name": "python",
   "nbconvert_exporter": "python",
   "pygments_lexer": "ipython2",
   "version": "2.7.6"
  }
 },
 "nbformat": 4,
 "nbformat_minor": 0
}