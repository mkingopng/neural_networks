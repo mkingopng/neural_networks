{
 "cells": [
  {
   "cell_type": "markdown",
   "source": [
    "# Pytorch Basic Operations\n",
    "The **Tensor** is a fundamental structure in PyTorch which is very similar to an array or matrix. Tensors are used to encode the inputs and outputs of a model, as well as the model’s parameters. In this exercise, you will learn how to implement basic tensor operations."
   ],
   "metadata": {
    "collapsed": false,
    "pycharm": {
     "name": "#%% md\n"
    }
   }
  },
  {
   "cell_type": "code",
   "execution_count": 1,
   "outputs": [],
   "source": [
    "\"\"\"\n",
    "ONLY COMPLETE METHODS AND CLASSES MARKED \"TODO\".\n",
    "DO NOT IMPORT ADDITIONAL LIBRARIES.\n",
    "\"\"\"\n",
    "import torch"
   ],
   "metadata": {
    "collapsed": false,
    "pycharm": {
     "name": "#%%\n"
    }
   }
  },
  {
   "cell_type": "markdown",
   "source": [
    "For some of the exercises, the documentation of `torch.Tensor` should be very helpful:\n",
    "https://pytorch.org/docs/stable/tensors.html\n",
    "\n",
    "Basically, when you see an unfamiliar function, you should check in the documentation to see what the **input/output** of the function should look like, what **parameters** are needed and how these parameters will affect the result."
   ],
   "metadata": {
    "collapsed": false,
    "pycharm": {
     "name": "#%% md\n"
    }
   }
  },
  {
   "cell_type": "markdown",
   "source": [
    "# Create Tensors"
   ],
   "metadata": {
    "collapsed": false,
    "pycharm": {
     "name": "#%% md\n"
    }
   }
  },
  {
   "cell_type": "code",
   "execution_count": 2,
   "outputs": [],
   "source": [
    "# Create tensors\n",
    "shape = (2, 3,)\n",
    "x = torch.rand(shape)\n",
    "y = torch.rand(shape)\n",
    "z = torch.zeros(shape)"
   ],
   "metadata": {
    "collapsed": false,
    "pycharm": {
     "name": "#%%\n"
    }
   }
  },
  {
   "cell_type": "markdown",
   "source": [
    "# Addition\n",
    "Implement a simple tensor addition x + y and assign the result to z."
   ],
   "metadata": {
    "collapsed": false,
    "pycharm": {
     "name": "#%% md\n"
    }
   }
  },
  {
   "cell_type": "code",
   "execution_count": 3,
   "outputs": [
    {
     "name": "stdout",
     "output_type": "stream",
     "text": [
      "x = :\n",
      "tensor([[0.4571, 0.5647, 0.5417],\n",
      "        [0.7305, 0.3078, 0.3100]])\n",
      "y = :\n",
      "tensor([[0.9108, 0.2358, 0.4462],\n",
      "        [0.9321, 0.8761, 0.7162]])\n",
      "\n",
      "\n",
      "x + y = :\n",
      "tensor([[1.3679, 0.8006, 0.9879],\n",
      "        [1.6625, 1.1839, 1.0261]])\n",
      "\n",
      "\n"
     ]
    }
   ],
   "source": [
    "\"\"\"\n",
    "TODO: Implement a simple tensor addition x + y.\n",
    "Assign the result to z.\n",
    "\"\"\"\n",
    "z = torch.add(x, y)\n",
    "\n",
    "print(\"x = :\")\n",
    "print(x)\n",
    "print(\"y = :\")\n",
    "print(y)\n",
    "\n",
    "print(\"\\n\")\n",
    "\n",
    "print(\"x + y = :\")\n",
    "print(z)\n",
    "print(\"\\n\")"
   ],
   "metadata": {
    "collapsed": false,
    "pycharm": {
     "name": "#%%\n"
    }
   }
  },
  {
   "cell_type": "markdown",
   "source": [
    "## Reshape\n",
    "Reshape the tensor **z** into the specified shape (new_shape)"
   ],
   "metadata": {
    "collapsed": false,
    "pycharm": {
     "name": "#%% md\n"
    }
   }
  },
  {
   "cell_type": "code",
   "execution_count": 4,
   "outputs": [
    {
     "name": "stdout",
     "output_type": "stream",
     "text": [
      "z and its shape after reshaping:\n",
      "tensor([[0.1853, 0.5492],\n",
      "        [0.5001, 0.7611],\n",
      "        [0.2111, 0.1555]])\n",
      "torch.Size([3, 2])\n",
      "\n",
      "\n"
     ]
    }
   ],
   "source": [
    "z = torch.rand([2, 3])\n",
    "new_shape = (3, 2)\n",
    "\n",
    "\"\"\"\n",
    "TODO: Reshapes the tensor z with the given shape (new_shape)\n",
    "Hint: use view()\n",
    "\"\"\"\n",
    "z = z.view(new_shape)\n",
    "\n",
    "print(\"z and its shape after reshaping:\")\n",
    "print(z)\n",
    "print(z.shape)\n",
    "print(\"\\n\")"
   ],
   "metadata": {
    "collapsed": false,
    "pycharm": {
     "name": "#%%\n"
    }
   }
  },
  {
   "cell_type": "markdown",
   "source": [
    "## Flatten\n",
    "Flatten the tensor **z**."
   ],
   "metadata": {
    "collapsed": false,
    "pycharm": {
     "name": "#%% md\n"
    }
   }
  },
  {
   "cell_type": "code",
   "execution_count": 5,
   "outputs": [
    {
     "name": "stdout",
     "output_type": "stream",
     "text": [
      "z and its shape after the flatten operation:\n",
      "tensor([0.1918, 0.1626, 0.9530, 0.0463, 0.2907, 0.1947])\n",
      "torch.Size([6])\n",
      "\n",
      "\n"
     ]
    }
   ],
   "source": [
    "z = torch.rand([2,3])\n",
    "\"\"\"\n",
    "Flatten\n",
    "TODO: Flatten the tensor z.\n",
    "Hint: use view()\n",
    "\"\"\"\n",
    "\n",
    "z = z.view(-1)\n",
    "\n",
    "# you can also use z = torch.flatten(z) in case z is not contiguous.\n",
    "\n",
    "print(\"z and its shape after the flatten operation:\")\n",
    "print(z)\n",
    "print(z.shape)\n",
    "print(\"\\n\")"
   ],
   "metadata": {
    "collapsed": false,
    "pycharm": {
     "name": "#%%\n"
    }
   }
  },
  {
   "cell_type": "markdown",
   "source": [
    "## Transpose\n",
    "Swap the first dimension and the second dimension of **z**."
   ],
   "metadata": {
    "collapsed": false,
    "pycharm": {
     "name": "#%% md\n"
    }
   }
  },
  {
   "cell_type": "code",
   "execution_count": 6,
   "outputs": [
    {
     "name": "stdout",
     "output_type": "stream",
     "text": [
      "z and its shape after the transpose operation:\n",
      "tensor([[0.3418, 0.6719],\n",
      "        [0.6707, 0.9390],\n",
      "        [0.9998, 0.4327]])\n",
      "torch.Size([3, 2])\n",
      "\n",
      "\n"
     ]
    }
   ],
   "source": [
    "z = torch.rand([2,3])\n",
    "\n",
    "\"\"\"\n",
    "TODO: Swaps the first dimension and the second dimension of z.\n",
    "\"\"\"\n",
    "z = torch.transpose(z, 0, 1)\n",
    "\n",
    "\n",
    "print(\"z and its shape after the transpose operation:\")\n",
    "print(z)\n",
    "print(z.shape)\n",
    "print(\"\\n\")"
   ],
   "metadata": {
    "collapsed": false,
    "pycharm": {
     "name": "#%%\n"
    }
   }
  },
  {
   "cell_type": "markdown",
   "source": [
    "## Permutation\n",
    "Permute the dimensions of **z** according to the specified order (exchanging axes)."
   ],
   "metadata": {
    "collapsed": false,
    "pycharm": {
     "name": "#%% md\n"
    }
   }
  },
  {
   "cell_type": "code",
   "execution_count": 7,
   "outputs": [
    {
     "name": "stdout",
     "output_type": "stream",
     "text": [
      "z and its shape after permutation\n",
      "tensor([[[0.9886, 0.6201, 0.6388, 0.6588, 0.1150],\n",
      "         [0.6969, 0.2699, 0.7233, 0.0247, 0.7326],\n",
      "         [0.1679, 0.1228, 0.7694, 0.5923, 0.9712]]])\n",
      "torch.Size([1, 3, 5])\n",
      "\n",
      "\n"
     ]
    }
   ],
   "source": [
    "\"\"\"\n",
    "Permutation\n",
    "TODO: Permute the dimensions of z according to the given order (swapping axes).\n",
    "\"\"\"\n",
    "\n",
    "# Create a new tensor\n",
    "shape = (3,5,1)\n",
    "z = torch.rand(shape)\n",
    "order = [2,0,1]\n",
    "\n",
    "z = z.permute(order)\n",
    "\n",
    "print(\"z and its shape after permutation\")\n",
    "print(z)\n",
    "print(z.shape)\n",
    "print(\"\\n\")"
   ],
   "metadata": {
    "collapsed": false,
    "pycharm": {
     "name": "#%%\n"
    }
   }
  },
  {
   "cell_type": "markdown",
   "source": [
    "## Dot Product\n",
    "Calculate the dot product of two rank 1 tensors (vectors) u and v."
   ],
   "metadata": {
    "collapsed": false,
    "pycharm": {
     "name": "#%% md\n"
    }
   }
  },
  {
   "cell_type": "code",
   "execution_count": 8,
   "outputs": [
    {
     "name": "stdout",
     "output_type": "stream",
     "text": [
      "The dot product of u and v:\n",
      "7\n",
      "\n",
      "\n"
     ]
    }
   ],
   "source": [
    "\"\"\"\n",
    "TODO: Calculate the dot product of\n",
    "      two rank 1 tensors (vectors) u and v.\n",
    "\"\"\"\n",
    "\n",
    "# Create two vectors\n",
    "v = torch.tensor([2, 3])\n",
    "u = torch.tensor([2, 1])\n",
    "\n",
    "result = torch.dot(u, v)\n",
    "\n",
    "print(\"The dot product of u and v:\")\n",
    "print(result.item())\n",
    "print(\"\\n\")"
   ],
   "metadata": {
    "collapsed": false,
    "pycharm": {
     "name": "#%%\n"
    }
   }
  },
  {
   "cell_type": "markdown",
   "source": [
    "## Concatenation"
   ],
   "metadata": {
    "collapsed": false,
    "pycharm": {
     "name": "#%% md\n"
    }
   }
  },
  {
   "cell_type": "code",
   "execution_count": 9,
   "outputs": [
    {
     "name": "stdout",
     "output_type": "stream",
     "text": [
      "The Concatenated tensor z of (x, y)\n",
      "tensor([[0.4912, 0.8874, 0.7180, 0.7024, 0.7580, 0.3244],\n",
      "        [0.5229, 0.2775, 0.7153, 0.2166, 0.1956, 0.5835]])\n",
      "\n",
      "\n"
     ]
    }
   ],
   "source": [
    "shape = (2,3,)\n",
    "x = torch.rand(shape)\n",
    "y = torch.rand(shape)\n",
    "\n",
    "\"\"\"\n",
    "TODO: Concatenate (x,y) in dimension 1.\n",
    "\"\"\"\n",
    "z = torch.cat((x, y), dim=1)\n",
    "\n",
    "print(\"The Concatenated tensor z of (x, y)\")\n",
    "print(z)\n",
    "print(\"\\n\")"
   ],
   "metadata": {
    "collapsed": false,
    "pycharm": {
     "name": "#%%\n"
    }
   }
  }
 ],
 "metadata": {
  "kernelspec": {
   "display_name": "Python 3",
   "language": "python",
   "name": "python3"
  },
  "language_info": {
   "codemirror_mode": {
    "name": "ipython",
    "version": 2
   },
   "file_extension": ".py",
   "mimetype": "text/x-python",
   "name": "python",
   "nbconvert_exporter": "python",
   "pygments_lexer": "ipython2",
   "version": "2.7.6"
  }
 },
 "nbformat": 4,
 "nbformat_minor": 0
}