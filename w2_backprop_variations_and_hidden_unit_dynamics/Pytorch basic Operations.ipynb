{
 "cells": [
  {
   "cell_type": "markdown",
   "source": [
    "# Pytorch Basic Operations\n",
    "The **Tensor** is a fundamental structure in PyTorch which is very similar to an array or matrix. Tensors are used to encode the inputs and outputs of a model, as well as the model’s parameters. In this exercise, you will learn how to implement basic tensor operations."
   ],
   "metadata": {
    "collapsed": false,
    "pycharm": {
     "name": "#%% md\n"
    }
   }
  },
  {
   "cell_type": "code",
   "execution_count": 1,
   "outputs": [],
   "source": [
    "\"\"\"\n",
    "ONLY COMPLETE METHODS AND CLASSES MARKED \"TODO\".\n",
    "DO NOT IMPORT ADDITIONAL LIBRARIES.\n",
    "\"\"\"\n",
    "import torch"
   ],
   "metadata": {
    "collapsed": false,
    "pycharm": {
     "name": "#%%\n"
    }
   }
  },
  {
   "cell_type": "markdown",
   "source": [
    "For some of the exercises, the documentation of `torch.Tensor` should be very helpful:\n",
    "https://pytorch.org/docs/stable/tensors.html\n",
    "\n",
    "Basically, when you see an unfamiliar function, you should check in the documentation to see what the **input/output** of the function should look like, what **parameters** are needed and how these parameters will affect the result."
   ],
   "metadata": {
    "collapsed": false,
    "pycharm": {
     "name": "#%% md\n"
    }
   }
  },
  {
   "cell_type": "markdown",
   "source": [
    "# Create Tensors"
   ],
   "metadata": {
    "collapsed": false,
    "pycharm": {
     "name": "#%% md\n"
    }
   }
  },
  {
   "cell_type": "code",
   "execution_count": 2,
   "outputs": [],
   "source": [
    "# Create tensors\n",
    "shape = (2, 3,)\n",
    "x = torch.rand(shape)\n",
    "y = torch.rand(shape)\n",
    "z = torch.zeros(shape)"
   ],
   "metadata": {
    "collapsed": false,
    "pycharm": {
     "name": "#%%\n"
    }
   }
  },
  {
   "cell_type": "markdown",
   "source": [
    "# Addition\n",
    "Implement a simple tensor addition x + y and assign the result to z."
   ],
   "metadata": {
    "collapsed": false,
    "pycharm": {
     "name": "#%% md\n"
    }
   }
  },
  {
   "cell_type": "code",
   "execution_count": 3,
   "outputs": [
    {
     "name": "stdout",
     "output_type": "stream",
     "text": [
      "x = :\n",
      "tensor([[0.2192, 0.1668, 0.8247],\n",
      "        [0.0848, 0.9460, 0.2757]])\n",
      "y = :\n",
      "tensor([[0.0108, 0.4095, 0.1484],\n",
      "        [0.5477, 0.0467, 0.9697]])\n",
      "\n",
      "\n",
      "x + y = :\n",
      "tensor([[0.2300, 0.5763, 0.9731],\n",
      "        [0.6325, 0.9927, 1.2454]])\n",
      "\n",
      "\n"
     ]
    }
   ],
   "source": [
    "\"\"\"\n",
    "TODO: Implement a simple tensor addition x + y.\n",
    "Assign the result to z.\n",
    "\"\"\"\n",
    "z = torch.add(x, y)\n",
    "\n",
    "print(\"x = :\")\n",
    "print(x)\n",
    "print(\"y = :\")\n",
    "print(y)\n",
    "\n",
    "print(\"\\n\")\n",
    "\n",
    "print(\"x + y = :\")\n",
    "print(z)\n",
    "print(\"\\n\")"
   ],
   "metadata": {
    "collapsed": false,
    "pycharm": {
     "name": "#%%\n"
    }
   }
  },
  {
   "cell_type": "markdown",
   "source": [
    "## Reshape\n",
    "Reshape the tensor **z** into the specified shape (new_shape)"
   ],
   "metadata": {
    "collapsed": false,
    "pycharm": {
     "name": "#%% md\n"
    }
   }
  },
  {
   "cell_type": "code",
   "execution_count": 4,
   "outputs": [
    {
     "name": "stdout",
     "output_type": "stream",
     "text": [
      "z and its shape after reshaping:\n",
      "tensor([[0.3857, 0.9370],\n",
      "        [0.1971, 0.7429],\n",
      "        [0.0452, 0.4709]])\n",
      "torch.Size([3, 2])\n",
      "\n",
      "\n"
     ]
    }
   ],
   "source": [
    "z = torch.rand([2, 3])\n",
    "new_shape = (3, 2)\n",
    "\n",
    "\"\"\"\n",
    "TODO: Reshapes the tensor z with the given shape (new_shape)\n",
    "Hint: use view()\n",
    "\"\"\"\n",
    "z = z.view(new_shape)\n",
    "\n",
    "print(\"z and its shape after reshaping:\")\n",
    "print(z)\n",
    "print(z.shape)\n",
    "print(\"\\n\")"
   ],
   "metadata": {
    "collapsed": false,
    "pycharm": {
     "name": "#%%\n"
    }
   }
  },
  {
   "cell_type": "markdown",
   "source": [
    "## Flatten\n",
    "Flatten the tensor **z**."
   ],
   "metadata": {
    "collapsed": false,
    "pycharm": {
     "name": "#%% md\n"
    }
   }
  },
  {
   "cell_type": "code",
   "execution_count": 5,
   "outputs": [
    {
     "name": "stdout",
     "output_type": "stream",
     "text": [
      "z and its shape after the flatten operation:\n",
      "tensor([0.5940, 0.4378, 0.1715, 0.4109, 0.9393, 0.6677])\n",
      "torch.Size([6])\n",
      "\n",
      "\n"
     ]
    }
   ],
   "source": [
    "z = torch.rand([2,3])\n",
    "\"\"\"\n",
    "Flatten\n",
    "TODO: Flatten the tensor z.\n",
    "Hint: use view()\n",
    "\"\"\"\n",
    "\n",
    "z = z.view(-1)\n",
    "\n",
    "# you can also use z = torch.flatten(z) in case z is not contiguous.\n",
    "\n",
    "print(\"z and its shape after the flatten operation:\")\n",
    "print(z)\n",
    "print(z.shape)\n",
    "print(\"\\n\")"
   ],
   "metadata": {
    "collapsed": false,
    "pycharm": {
     "name": "#%%\n"
    }
   }
  },
  {
   "cell_type": "markdown",
   "source": [
    "## Transpose\n",
    "Swap the first dimension and the second dimension of **z**."
   ],
   "metadata": {
    "collapsed": false,
    "pycharm": {
     "name": "#%% md\n"
    }
   }
  },
  {
   "cell_type": "code",
   "execution_count": 6,
   "outputs": [
    {
     "name": "stdout",
     "output_type": "stream",
     "text": [
      "z and its shape after the transpose operation:\n",
      "tensor([[0.0395, 0.0163],\n",
      "        [0.6335, 0.1238],\n",
      "        [0.4779, 0.9535]])\n",
      "torch.Size([3, 2])\n",
      "\n",
      "\n"
     ]
    }
   ],
   "source": [
    "z = torch.rand([2,3])\n",
    "\n",
    "\"\"\"\n",
    "TODO: Swaps the first dimension and the second dimension of z.\n",
    "\"\"\"\n",
    "z = torch.transpose(z, 0, 1)\n",
    "\n",
    "\n",
    "print(\"z and its shape after the transpose operation:\")\n",
    "print(z)\n",
    "print(z.shape)\n",
    "print(\"\\n\")"
   ],
   "metadata": {
    "collapsed": false,
    "pycharm": {
     "name": "#%%\n"
    }
   }
  },
  {
   "cell_type": "markdown",
   "source": [
    "## Permutation\n",
    "Permute the dimensions of **z** according to the specified order (exchanging axes)."
   ],
   "metadata": {
    "collapsed": false,
    "pycharm": {
     "name": "#%% md\n"
    }
   }
  },
  {
   "cell_type": "code",
   "execution_count": 7,
   "outputs": [
    {
     "name": "stdout",
     "output_type": "stream",
     "text": [
      "z and its shape after permutation\n"
     ]
    }
   ],
   "source": [
    "\"\"\"\n",
    "Permutation\n",
    "TODO: Permute the dimensions of z according to the given order (swapping axes).\n",
    "\"\"\"\n",
    "\n",
    "# Create a new tensor\n",
    "shape = (3,5,1)\n",
    "z = torch.rand(shape)\n",
    "order = [2,0,1]\n",
    "\n",
    "z = z.permute(order)\n",
    "\n",
    "print(\"z and its shape after permutation\")\n",
    "print(z)\n",
    "print(z.shape)\n",
    "print(\"\\n\")"
   ],
   "metadata": {
    "collapsed": false,
    "pycharm": {
     "name": "#%%\n"
    }
   }
  },
  {
   "cell_type": "markdown",
   "source": [
    "## Dot Product\n",
    "Calculate the dot product of two rank 1 tensors (vectors) u and v."
   ],
   "metadata": {
    "collapsed": false,
    "pycharm": {
     "name": "#%% md\n"
    }
   }
  },
  {
   "cell_type": "code",
   "execution_count": 8,
   "outputs": [
    {
     "name": "stdout",
     "output_type": "stream",
     "text": [
      "The dot product of u and v:\n",
      "7\n",
      "\n",
      "\n"
     ]
    }
   ],
   "source": [
    "\"\"\"\n",
    "TODO: Calculate the dot product of\n",
    "      two rank 1 tensors (vectors) u and v.\n",
    "\"\"\"\n",
    "\n",
    "# Create two vectors\n",
    "v = torch.tensor([2, 3])\n",
    "u = torch.tensor([2, 1])\n",
    "\n",
    "result = torch.dot(u, v)\n",
    "\n",
    "print(\"The dot product of u and v:\")\n",
    "print(result.item())\n",
    "print(\"\\n\")"
   ],
   "metadata": {
    "collapsed": false,
    "pycharm": {
     "name": "#%%\n"
    }
   }
  },
  {
   "cell_type": "markdown",
   "source": [
    "## Concatenation"
   ],
   "metadata": {
    "collapsed": false,
    "pycharm": {
     "name": "#%% md\n"
    }
   }
  },
  {
   "cell_type": "code",
   "execution_count": 9,
   "outputs": [
    {
     "name": "stdout",
     "output_type": "stream",
     "text": [
      "The Concatenated tensor z of (x, y)\n",
      "tensor([[0.1891, 0.1467, 0.1021, 0.5837, 0.3533, 0.1094],\n",
      "        [0.0145, 0.7058, 0.3606, 0.3264, 0.7732, 0.5447]])\n",
      "\n",
      "\n"
     ]
    }
   ],
   "source": [
    "shape = (2,3,)\n",
    "x = torch.rand(shape)\n",
    "y = torch.rand(shape)\n",
    "\n",
    "\"\"\"\n",
    "TODO: Concatenate (x,y) in dimension 1.\n",
    "\"\"\"\n",
    "z = torch.cat((x, y), dim=1)\n",
    "\n",
    "print(\"The Concatenated tensor z of (x, y)\")\n",
    "print(z)\n",
    "print(\"\\n\")"
   ],
   "metadata": {
    "collapsed": false,
    "pycharm": {
     "name": "#%%\n"
    }
   }
  }
 ],
 "metadata": {
  "kernelspec": {
   "display_name": "Python 3",
   "language": "python",
   "name": "python3"
  },
  "language_info": {
   "codemirror_mode": {
    "name": "ipython",
    "version": 2
   },
   "file_extension": ".py",
   "mimetype": "text/x-python",
   "name": "python",
   "nbconvert_exporter": "python",
   "pygments_lexer": "ipython2",
   "version": "2.7.6"
  }
 },
 "nbformat": 4,
 "nbformat_minor": 0
}