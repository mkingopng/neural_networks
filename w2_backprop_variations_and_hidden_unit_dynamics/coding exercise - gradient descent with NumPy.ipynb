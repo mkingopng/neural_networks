{
 "cells": [
  {
   "cell_type": "markdown",
   "source": [
    "## Gradient Descent\n",
    "In this exercise, you will learn how to use gradient descent to solve a linear regression problem.\n",
    "\n",
    "* Let the variables $x$ and $y$ be the input and output of a linear function, respectively. Let $\\{(x_1,y_1),\\cdots,(x_n,y_n)\\}$ be $n$ data points.\n",
    "* Our aim is to estimate a function $f$ such that $f(x)$ is a good prediction for $y$."
   ],
   "metadata": {
    "collapsed": false,
    "pycharm": {
     "name": "#%% md\n"
    }
   }
  },
  {
   "cell_type": "markdown",
   "source": [
    "## 1. Creating Data\n",
    "We begin by creating synthetic data from a linear function (y = 1 + 5x) with some Gaussian noise added."
   ],
   "metadata": {
    "collapsed": false,
    "pycharm": {
     "name": "#%% md\n"
    }
   }
  },
  {
   "cell_type": "code",
   "execution_count": 1,
   "outputs": [
    {
     "data": {
      "text/plain": "<Figure size 432x288 with 1 Axes>",
      "image/png": "[encoded data removed]"
     },
     "metadata": {
      "needs_background": "light"
     },
     "output_type": "display_data"
    }
   ],
   "source": [
    "import numpy as np\n",
    "import numpy.linalg as lng\n",
    "import matplotlib.pyplot as plt\n",
    "\n",
    "# Generate data\n",
    "x = np.random.rand(100, 1)\n",
    "y = 1 + 5 * x + 0.1 * np.random.randn(100, 1)\n",
    "\n",
    "# Visualize the data\n",
    "plt.plot(x, y, 'ro')\n",
    "plt.xlabel('x')\n",
    "plt.ylabel('y')\n",
    "plt.show()"
   ],
   "metadata": {
    "collapsed": false,
    "pycharm": {
     "name": "#%%\n"
    }
   }
  },
  {
   "cell_type": "markdown",
   "source": [
    "## 2. Loss Function\n",
    "* Assuming we are using a linear model $f(x)= w_0 + w_1 x$, then our goal is to estimate the coefficients $w_0$ and $w_1$. Here, the model is a linear function with respect to the coefficients $w_0$ and $w_1$.\n",
    "* Let $\\hat{y}_i = w_0 + w_1 x_i$ be the prediction for input $x_i$, and $e_i = y_i - \\hat{y}_i$ represent the difference between the $i$-th target and the prediction by our linear model. Then the squared error is denoted as:\n",
    "<p style=\"text-align: center;\">$E = \\frac{1}{2} \\sum_{i=1}^{N}e_i^2 =  \\frac{1}{2} \\sum_{i=1}^{N}(y_i - w_0 - w_1 x_i)^2$</p>"
   ],
   "metadata": {
    "collapsed": false,
    "pycharm": {
     "name": "#%% md\n"
    }
   }
  },
  {
   "cell_type": "markdown",
   "source": [
    "## Calculate the gradient\n",
    "\n",
    "Recall that gradient descenta adjust the weights in such a way as to take us in the steepest downhill direction with the formula: <br />\n",
    "<p style=\"text-align: center;\">$w \\leftarrow w-\\eta \\frac{\\partial E}{\\partial w}$.</p>\n",
    "Where $\\eta$ is the learning rate. <br />\n",
    "Hence we need to calculate the partial derivatives for $w_0$ and $w_1$ respect to the error $E$:\n",
    "<p style=\"text-align: center;\">$\\frac{\\partial E}{\\partial w_1} = -\\sum_{i=1}^{N}(y_i - w_0 - w_1 x_i)$</p>\n",
    "<p style=\"text-align: center;\">$\\frac{\\partial E}{\\partial w_2} = -\\sum_{i=1}^{N}(y_i - w_0 - w_1 x_i)\\,x_i$</p> <br />\n",
    "We can then use the above formulas to do the gradient descent. However, before we start the implementation, for computational efficiency, we'll use the vector/matrix form to denote those data and weights.\n",
    "\n",
    "* Denote $\\mathbf{x}$ as a matrix $\\begin{bmatrix}\n",
    "    1       & 1 & 1 & \\dots & 1 \\\\\n",
    "    x_1       & x_2 & x_3 & \\dots & x_n\n",
    "\\end{bmatrix}^{\\top}$, $\\mathbf{y} = [y_1,\\cdots,y_n]^{\\top}$, $\\mathbf{w} = [w_1,w_2]^{\\top}$.\n",
    "* We have the predictions $\\hat{\\mathbf{y}} = \\mathbf{x} \\mathbf{w}$.\n",
    "* Then, the squared error $E = \\frac{1}{2}\\|\\mathbf{y}-\\hat{\\mathbf{y}}\\|_2^2=\\frac{1}{2}\\|\\mathbf{y}- \\mathbf{x} \\mathbf{w}\\|_2^2$, where $\\|\\cdot\\|_2$ is $l_2$ norm of a vector.\n",
    "* Similarly, the partial derivatives can be represented as\n",
    "<p style=\"text-align: center;\">$\\frac{\\partial \\mathbf{E}}{\\partial \\mathbf{w}} = -\\mathbf{x}^{\\top}(\\mathbf{y}- \\mathbf{x} \\mathbf{w})$</p>\n",
    "\n",
    "Now we can start implementing the gradient descent algorithm with the following formula:\n",
    "<p style=\"text-align: center;\">$\\mathbf{w} \\leftarrow \\mathbf{w}-\\eta \\frac{\\partial \\mathbf{E}}{\\partial \\mathbf{w}} = \\mathbf{w} + \\eta\\, \\mathbf{x}^{\\top} (\\mathbf{y}- \\mathbf{x} \\mathbf{w})$.</p>\n",
    "Where $\\eta$ is the learning rate. <br />"
   ],
   "metadata": {
    "collapsed": false,
    "pycharm": {
     "name": "#%% md\n"
    }
   }
  },
  {
   "cell_type": "code",
   "execution_count": 2,
   "outputs": [
    {
     "name": "stdout",
     "output_type": "stream",
     "text": [
      "[[0.95821266]\n",
      " [5.06788381]]\n"
     ]
    },
    {
     "data": {
      "text/plain": "[<matplotlib.lines.Line2D at 0x7f882bf3b430>,\n <matplotlib.lines.Line2D at 0x7f882bf3b3d0>]"
     },
     "execution_count": 2,
     "metadata": {},
     "output_type": "execute_result"
    },
    {
     "data": {
      "text/plain": "<Figure size 432x288 with 1 Axes>",
      "image/png": "[encoded data removed]"
     },
     "metadata": {
      "needs_background": "light"
     },
     "output_type": "display_data"
    }
   ],
   "source": [
    "# Vectorize x and y\n",
    "n = len(x)\n",
    "X = np.ones((n,2))\n",
    "Y = np.zeros((n,1))\n",
    "for i in range(n):\n",
    "    X[i][1] = x[i]\n",
    "    Y[i] = y[i]\n",
    "\n",
    "# initialize weights\n",
    "w = np.zeros((2,1))\n",
    "\n",
    "# Set learning rate\n",
    "eta = 1e-3\n",
    "\n",
    "# max number of iterations\n",
    "maxiter = 1000\n",
    "\n",
    "# stop criterion. We let the update stop if the difference of weights between two iteration is very small.\n",
    "eps = 1e-8\n",
    "\n",
    "iters = 0\n",
    "\n",
    "while (iters < maxiter):\n",
    "    # compute the grad and update w\n",
    "    # residuals = (y-x^Tw)\n",
    "    res = Y - np.dot(X,w)\n",
    "    # -residuals^T x\n",
    "    grad = -np.dot(np.transpose(X),res)\n",
    "    w_new = w - eta * grad\n",
    "\n",
    "    w = w_new\n",
    "    iters += 1\n",
    "\n",
    "# Print estimated weights\n",
    "print(w)\n",
    "\n",
    "# Visualize the data\n",
    "pred_y = np.dot(X,w)\n",
    "plt.plot(x,y,'ro',x, pred_y, 'b--')"
   ],
   "metadata": {
    "collapsed": false,
    "pycharm": {
     "name": "#%%\n"
    }
   }
  },
  {
   "cell_type": "code",
   "execution_count": null,
   "outputs": [],
   "source": [],
   "metadata": {
    "collapsed": false,
    "pycharm": {
     "name": "#%%\n"
    }
   }
  }
 ],
 "metadata": {
  "kernelspec": {
   "display_name": "Python 3",
   "language": "python",
   "name": "python3"
  },
  "language_info": {
   "codemirror_mode": {
    "name": "ipython",
    "version": 2
   },
   "file_extension": ".py",
   "mimetype": "text/x-python",
   "name": "python",
   "nbconvert_exporter": "python",
   "pygments_lexer": "ipython2",
   "version": "2.7.6"
  }
 },
 "nbformat": 4,
 "nbformat_minor": 0
}