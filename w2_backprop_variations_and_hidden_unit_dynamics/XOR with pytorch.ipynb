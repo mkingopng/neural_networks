{
 "cells": [
  {
   "cell_type": "markdown",
   "source": [
    "This program trains a two-layer neural network on the famous XOR task."
   ],
   "metadata": {
    "collapsed": false,
    "pycharm": {
     "name": "#%% md\n"
    }
   }
  },
  {
   "cell_type": "code",
   "execution_count": 1,
   "metadata": {
    "collapsed": true,
    "pycharm": {
     "name": "#%%\n"
    }
   },
   "outputs": [
    {
     "name": "stdout",
     "output_type": "stream",
     "text": [
      "ep100: loss =  0.5490\n",
      "ep200: loss =  0.4588\n",
      "ep300: loss =  0.4179\n",
      "ep400: loss =  0.3973\n",
      "ep500: loss =  0.3854\n",
      "ep600: loss =  0.3778\n",
      "ep700: loss =  0.3726\n",
      "ep800: loss =  0.3688\n",
      "ep900: loss =  0.3660\n",
      "ep1000: loss =  0.3638\n",
      "ep1100: loss =  0.3620\n",
      "ep1200: loss =  0.3605\n",
      "ep1300: loss =  0.3593\n",
      "ep1400: loss =  0.3583\n",
      "ep1500: loss =  0.3574\n",
      "ep1600: loss =  0.3566\n",
      "ep1700: loss =  0.3560\n",
      "ep1800: loss =  0.3554\n",
      "ep1900: loss =  0.3549\n",
      "ep2000: loss =  0.3544\n",
      "ep2100: loss =  0.3540\n",
      "ep2200: loss =  0.3536\n",
      "ep2300: loss =  0.3533\n",
      "ep2400: loss =  0.3530\n",
      "ep2500: loss =  0.3527\n",
      "ep2600: loss =  0.3524\n",
      "ep2700: loss =  0.3522\n",
      "ep2800: loss =  0.3520\n",
      "ep2900: loss =  0.3518\n",
      "ep3000: loss =  0.3516\n",
      "ep3100: loss =  0.3514\n",
      "ep3200: loss =  0.3513\n",
      "ep3300: loss =  0.3511\n",
      "ep3400: loss =  0.3510\n",
      "ep3500: loss =  0.3508\n",
      "ep3600: loss =  0.3507\n",
      "ep3700: loss =  0.3506\n",
      "ep3800: loss =  0.3505\n",
      "ep3900: loss =  0.3504\n",
      "ep4000: loss =  0.3502\n",
      "ep4100: loss =  0.3502\n",
      "ep4200: loss =  0.3501\n",
      "ep4300: loss =  0.3500\n",
      "ep4400: loss =  0.3499\n",
      "ep4500: loss =  0.3498\n",
      "ep4600: loss =  0.3497\n",
      "ep4700: loss =  0.3497\n",
      "ep4800: loss =  0.3496\n",
      "ep4900: loss =  0.3495\n",
      "ep5000: loss =  0.3495\n",
      "ep5100: loss =  0.3494\n",
      "ep5200: loss =  0.3493\n",
      "ep5300: loss =  0.3493\n",
      "ep5400: loss =  0.3492\n",
      "ep5500: loss =  0.3492\n",
      "ep5600: loss =  0.3491\n",
      "ep5700: loss =  0.3491\n",
      "ep5800: loss =  0.3490\n",
      "ep5900: loss =  0.3490\n",
      "ep6000: loss =  0.3490\n",
      "ep6100: loss =  0.3489\n",
      "ep6200: loss =  0.3489\n",
      "ep6300: loss =  0.3488\n",
      "ep6400: loss =  0.3488\n",
      "ep6500: loss =  0.3488\n",
      "ep6600: loss =  0.3487\n",
      "ep6700: loss =  0.3487\n",
      "ep6800: loss =  0.3487\n",
      "ep6900: loss =  0.3486\n",
      "ep7000: loss =  0.3486\n",
      "ep7100: loss =  0.3486\n",
      "ep7200: loss =  0.3485\n",
      "ep7300: loss =  0.3485\n",
      "ep7400: loss =  0.3485\n",
      "ep7500: loss =  0.3484\n",
      "ep7600: loss =  0.3484\n",
      "ep7700: loss =  0.3484\n",
      "ep7800: loss =  0.3484\n",
      "ep7900: loss =  0.3483\n",
      "ep8000: loss =  0.3483\n",
      "ep8100: loss =  0.3483\n",
      "ep8200: loss =  0.3483\n",
      "ep8300: loss =  0.3483\n",
      "ep8400: loss =  0.3482\n",
      "ep8500: loss =  0.3482\n",
      "ep8600: loss =  0.3482\n",
      "ep8700: loss =  0.3482\n",
      "ep8800: loss =  0.3482\n",
      "ep8900: loss =  0.3481\n",
      "ep9000: loss =  0.3481\n",
      "ep9100: loss =  0.3481\n",
      "ep9200: loss =  0.3481\n",
      "ep9300: loss =  0.3481\n",
      "ep9400: loss =  0.3481\n",
      "ep9500: loss =  0.3480\n",
      "ep9600: loss =  0.3480\n",
      "ep9700: loss =  0.3480\n",
      "ep9800: loss =  0.3480\n",
      "ep9900: loss =  0.3480\n",
      "Local Minimum\n"
     ]
    }
   ],
   "source": [
    "import torch\n",
    "import torch.utils.data\n",
    "import torch.nn.functional as F\n",
    "\n",
    "lr = 0.1\n",
    "mom = 0.0\n",
    "init = 1.0\n",
    "\n",
    "class MyModel(torch.nn.Module):\n",
    "    def __init__(self):\n",
    "        super(MyModel, self).__init__()\n",
    "        # define structure of the network here\n",
    "        self.in_hid  = torch.nn.Linear(2,2)\n",
    "        self.hid_out = torch.nn.Linear(2,1)\n",
    "    def forward(self, input):\n",
    "        # apply network and return output\n",
    "        hid_sum = self.in_hid(input)\n",
    "        hidden  = torch.tanh(hid_sum)\n",
    "        out_sum = self.hid_out(hidden)\n",
    "        output  = torch.sigmoid(out_sum)\n",
    "        return(output)\n",
    "\n",
    "device = 'cpu'\n",
    "\n",
    "input  = torch.Tensor([[0,0],[0,1],[1,0],[1,1]])\n",
    "target = torch.Tensor([[0],[1],[1],[0]])\n",
    "\n",
    "xor_dataset  = torch.utils.data.TensorDataset(input,target)\n",
    "train_loader = torch.utils.data.DataLoader(xor_dataset,batch_size=4)\n",
    "\n",
    "# create neural network according to model specification\n",
    "net = MyModel().to(device) # CPU or GPU\n",
    "\n",
    "# initialize weight values\n",
    "net.in_hid.weight.data.normal_(0,init)\n",
    "net.hid_out.weight.data.normal_(0,init)\n",
    "\n",
    "# choose between SGD, Adam or other optimizer\n",
    "optimizer = torch.optim.SGD(net.parameters(),lr=lr,momentum=mom)\n",
    "\n",
    "epochs = 10000\n",
    "\n",
    "for epoch in range(1, epochs):\n",
    "    #train(net, device, train_loader, optimizer)\n",
    "    for batch_id, (data,target) in enumerate(train_loader):\n",
    "        optimizer.zero_grad() # zero the gradients\n",
    "        output = net(data)    # apply network\n",
    "        loss = F.binary_cross_entropy(output,target)\n",
    "        loss.backward()       # compute gradients\n",
    "        optimizer.step()      # update weights\n",
    "        if epoch % 100 == 0:\n",
    "            print('ep%3d: loss = %7.4f' % (epoch, loss.item()))\n",
    "        if loss < 0.01:\n",
    "            print(\"Global Mininum\")\n",
    "            exit(0)\n",
    "print(\"Local Minimum\")"
   ]
  },
  {
   "cell_type": "markdown",
   "source": [
    "## Question 1:\n",
    "Run the code ten times. For how many runs does it reach the Global Minimum?\n",
    "\n",
    "For how many runs does it reach a local minimum?"
   ],
   "metadata": {
    "collapsed": false,
    "pycharm": {
     "name": "#%% md\n"
    }
   }
  },
  {
   "cell_type": "markdown",
   "source": [
    "## Answer:\n",
    "It should reach the global minimum in approximately half of the runs, and it gets stuck in a local minimum for the other half"
   ],
   "metadata": {
    "collapsed": false,
    "pycharm": {
     "name": "#%% md\n"
    }
   }
  },
  {
   "cell_type": "markdown",
   "source": [
    "## Question 2:\n",
    "Keeping the learning rate fixed at `0.1`, adjust the values of momentum `(mom)` on line 6 and initial weight size `(init)` on line 7 to see if you can find values for which the code converges relatively quickly to the Global Minimum on virtually every run."
   ],
   "metadata": {
    "collapsed": false,
    "pycharm": {
     "name": "#%% md\n"
    }
   }
  },
  {
   "cell_type": "markdown",
   "source": [
    "## Answer:\n",
    "with `mom=0.9` and `init=0.01` it should successfully reach the Global minimum in 99% of runs."
   ],
   "metadata": {
    "collapsed": false,
    "pycharm": {
     "name": "#%% md\n"
    }
   }
  },
  {
   "cell_type": "markdown",
   "source": [],
   "metadata": {
    "collapsed": false,
    "pycharm": {
     "name": "#%% md\n"
    }
   }
  }
 ],
 "metadata": {
  "kernelspec": {
   "display_name": "Python 3",
   "language": "python",
   "name": "python3"
  },
  "language_info": {
   "codemirror_mode": {
    "name": "ipython",
    "version": 2
   },
   "file_extension": ".py",
   "mimetype": "text/x-python",
   "name": "python",
   "nbconvert_exporter": "python",
   "pygments_lexer": "ipython2",
   "version": "2.7.6"
  }
 },
 "nbformat": 4,
 "nbformat_minor": 0
}