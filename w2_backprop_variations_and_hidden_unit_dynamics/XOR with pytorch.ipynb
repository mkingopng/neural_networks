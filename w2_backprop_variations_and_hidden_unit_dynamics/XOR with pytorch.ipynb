{
 "cells": [
  {
   "cell_type": "markdown",
   "source": [
    "This program trains a two-layer neural network on the famous XOR task."
   ],
   "metadata": {
    "collapsed": false,
    "pycharm": {
     "name": "#%% md\n"
    }
   }
  },
  {
   "cell_type": "code",
   "execution_count": null,
   "metadata": {
    "collapsed": true,
    "pycharm": {
     "name": "#%%\n"
    }
   },
   "outputs": [],
   "source": [
    "import torch\n",
    "import torch.utils.data\n",
    "import torch.nn.functional as F\n",
    "\n",
    "lr = 0.1\n",
    "mom = 0.0\n",
    "init = 1.0\n",
    "\n",
    "class MyModel(torch.nn.Module):\n",
    "    def __init__(self):\n",
    "        super(MyModel, self).__init__()\n",
    "        # define structure of the network here\n",
    "        self.in_hid  = torch.nn.Linear(2,2)\n",
    "        self.hid_out = torch.nn.Linear(2,1)\n",
    "    def forward(self, input):\n",
    "        # apply network and return output\n",
    "        hid_sum = self.in_hid(input)\n",
    "        hidden  = torch.tanh(hid_sum)\n",
    "        out_sum = self.hid_out(hidden)\n",
    "        output  = torch.sigmoid(out_sum)\n",
    "        return(output)\n",
    "\n",
    "device = 'cpu'\n",
    "\n",
    "input  = torch.Tensor([[0,0],[0,1],[1,0],[1,1]])\n",
    "target = torch.Tensor([[0],[1],[1],[0]])\n",
    "\n",
    "xor_dataset  = torch.utils.data.TensorDataset(input,target)\n",
    "train_loader = torch.utils.data.DataLoader(xor_dataset,batch_size=4)\n",
    "\n",
    "# create neural network according to model specification\n",
    "net = MyModel().to(device) # CPU or GPU\n",
    "\n",
    "# initialize weight values\n",
    "net.in_hid.weight.data.normal_(0,init)\n",
    "net.hid_out.weight.data.normal_(0,init)\n",
    "\n",
    "# choose between SGD, Adam or other optimizer\n",
    "optimizer = torch.optim.SGD(net.parameters(),lr=lr,momentum=mom)\n",
    "\n",
    "epochs = 10000\n",
    "\n",
    "for epoch in range(1, epochs):\n",
    "    #train(net, device, train_loader, optimizer)\n",
    "    for batch_id, (data,target) in enumerate(train_loader):\n",
    "        optimizer.zero_grad() # zero the gradients\n",
    "        output = net(data)    # apply network\n",
    "        loss = F.binary_cross_entropy(output,target)\n",
    "        loss.backward()       # compute gradients\n",
    "        optimizer.step()      # update weights\n",
    "        if epoch % 100 == 0:\n",
    "            print('ep%3d: loss = %7.4f' % (epoch, loss.item()))\n",
    "        if loss < 0.01:\n",
    "            print(\"Global Mininum\")\n",
    "            exit(0)\n",
    "print(\"Local Minimum\")"
   ]
  },
  {
   "cell_type": "markdown",
   "source": [
    "## Question 1:\n",
    "Run the code ten times. For how many runs does it reach the Global Minimum?\n",
    "\n",
    "For how many runs does it reach a local minimum?"
   ],
   "metadata": {
    "collapsed": false,
    "pycharm": {
     "name": "#%% md\n"
    }
   }
  },
  {
   "cell_type": "markdown",
   "source": [
    "## Answer:\n",
    "It should reach the global minimum in approximately half of the runs, and it gets stuck in a local minimum for the other half"
   ],
   "metadata": {
    "collapsed": false,
    "pycharm": {
     "name": "#%% md\n"
    }
   }
  },
  {
   "cell_type": "markdown",
   "source": [
    "## Question 2:\n",
    "Keeping the learning rate fixed at `0.1`, adjust the values of momentum `(mom)` on line 6 and initial weight size `(init)` on line 7 to see if you can find values for which the code converges relatively quickly to the Global Minimum on virtually every run."
   ],
   "metadata": {
    "collapsed": false,
    "pycharm": {
     "name": "#%% md\n"
    }
   }
  },
  {
   "cell_type": "markdown",
   "source": [
    "## Answer:\n",
    "with `mom=0.9` and `init=0.01` it should successfully reach the Global minimum in 99% of runs."
   ],
   "metadata": {
    "collapsed": false,
    "pycharm": {
     "name": "#%% md\n"
    }
   }
  },
  {
   "cell_type": "markdown",
   "source": [],
   "metadata": {
    "collapsed": false,
    "pycharm": {
     "name": "#%% md\n"
    }
   }
  }
 ],
 "metadata": {
  "kernelspec": {
   "display_name": "Python 3",
   "language": "python",
   "name": "python3"
  },
  "language_info": {
   "codemirror_mode": {
    "name": "ipython",
    "version": 2
   },
   "file_extension": ".py",
   "mimetype": "text/x-python",
   "name": "python",
   "nbconvert_exporter": "python",
   "pygments_lexer": "ipython2",
   "version": "2.7.6"
  }
 },
 "nbformat": 4,
 "nbformat_minor": 0
}