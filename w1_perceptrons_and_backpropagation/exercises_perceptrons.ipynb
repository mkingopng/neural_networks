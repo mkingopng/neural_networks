{
 "cells": [
  {
   "cell_type": "markdown",
   "source": [
    "# Question 1\n",
    "Construct by hand a Perceptron which correctly classifies the following data; use your knowledge of plane geometry to choose appropriate values for the weights $w_0, w_1,$ and $w_2$\n",
    "\n",
    "\n",
    "| Training Example | $x_1$ | x_2 | Class |\n",
    "|------------------|-------|-----|-------|\n",
    "| a.               | 0     | 1   | -1    |\n",
    "| b.               | 2     | 0   | -1    |\n",
    "| c.               | 1     | 1   | +1    |\n",
    "\n",
    "\n",
    "Identify the equation of the line and the weights of the Perceptron (including bias)."
   ],
   "metadata": {
    "collapsed": false,
    "pycharm": {
     "name": "#%% md\n"
    }
   }
  },
  {
   "cell_type": "code",
   "execution_count": null,
   "outputs": [],
   "source": [],
   "metadata": {
    "collapsed": false,
    "pycharm": {
     "name": "#%%\n"
    }
   }
  },
  {
   "cell_type": "markdown",
   "source": [
    "# Question 2\n",
    "Demonstrate the Perceptron Learning Algorithm on the above data, using a\n",
    "learning rate of 1.0 and initial weight values of\n",
    "\n",
    "$$ w_0 = -1.5 $$\n",
    "$$ w_1 = 0 $$\n",
    "$$ w_2 = 2 $$\n",
    "\n",
    "The first three steps are shown below. You should continue until all items are correctly classified.\n",
    "\n",
    "| Iteration | $w_0$ | $w_1$ | $w_2$ | Item | $x_1$ | $x_2$ | Class | $s = w_0 + w_1 X_1 + w_2 X_2$ | Action    |\n",
    "|-----------|-------|-------|-------|------|-------|-------|-------|-------------------------------|-----------|\n",
    "| 1         | -1.5  | 0     | 2     | a.   | 0     | 1     | -1    | +0.5                          | subtract  |"
   ],
   "metadata": {
    "collapsed": false,
    "pycharm": {
     "name": "#%% md\n"
    }
   }
  },
  {
   "cell_type": "code",
   "execution_count": null,
   "outputs": [],
   "source": [],
   "metadata": {
    "collapsed": false,
    "pycharm": {
     "name": "#%%\n"
    }
   }
  },
  {
   "cell_type": "markdown",
   "source": [],
   "metadata": {
    "collapsed": false,
    "pycharm": {
     "name": "#%% md\n"
    }
   }
  }
 ],
 "metadata": {
  "kernelspec": {
   "display_name": "Python 3",
   "language": "python",
   "name": "python3"
  },
  "language_info": {
   "codemirror_mode": {
    "name": "ipython",
    "version": 2
   },
   "file_extension": ".py",
   "mimetype": "text/x-python",
   "name": "python",
   "nbconvert_exporter": "python",
   "pygments_lexer": "ipython2",
   "version": "2.7.6"
  }
 },
 "nbformat": 4,
 "nbformat_minor": 0
}