{
 "cells": [
  {
   "cell_type": "markdown",
   "source": [
    "# Perceptrons\n",
    "## Question 1:\n",
    "construct by hand a perceptron which correctly classifies the follosing data; use yoour knowedge of plane geometry to choose appropriate values for the weights $w_0, w_1$ and $w_2$.\n",
    "\n",
    "|------------------|-------|-------|-------|\n",
    "| training example | $x_1$ | $x_2$ | Class |\n",
    "|------------------|-------|-------|-------|\n",
    "| a.               | 0     | 1     | -1    |\n",
    "| b.               | 2     | 0     | -1    |\n",
    "| c.               | 1     | 1     | +1    |\n",
    "|------------------|-------|-------|-------|\n",
    "\n",
    "**identify the equation of the line and the weights of the perceptron (including bias)**"
   ],
   "metadata": {
    "collapsed": false,
    "pycharm": {
     "name": "#%% md\n"
    }
   }
  },
  {
   "cell_type": "code",
   "execution_count": 2,
   "metadata": {
    "collapsed": true,
    "pycharm": {
     "name": "#%%\n"
    }
   },
   "outputs": [
    {
     "data": {
      "text/plain": "<Figure size 432x288 with 1 Axes>",
      "image/png": "[encoded data removed]"
     },
     "metadata": {
      "needs_background": "light"
     },
     "output_type": "display_data"
    }
   ],
   "source": [
    "import pandas as pd\n",
    "import numpy as np\n",
    "import matplotlib.pyplot as plt\n",
    "\n",
    "# first plot the data\n",
    "data = np.array([\n",
    "    [0, 1],\n",
    "    [2, 0],\n",
    "    [1, 1]\n",
    "])\n",
    "\n",
    "x, y = data.T\n",
    "plt.scatter(x, y)\n",
    "plt.show()"
   ]
  },
  {
   "cell_type": "code",
   "execution_count": 3,
   "outputs": [
    {
     "name": "stdout",
     "output_type": "stream",
     "text": [
      "[0 2 1] [1 0 1]\n"
     ]
    }
   ],
   "source": [
    "print(x, y)"
   ],
   "metadata": {
    "collapsed": false,
    "pycharm": {
     "name": "#%%\n"
    }
   }
  },
  {
   "cell_type": "markdown",
   "source": [],
   "metadata": {
    "collapsed": false,
    "pycharm": {
     "name": "#%% md\n"
    }
   }
  },
  {
   "cell_type": "code",
   "execution_count": null,
   "outputs": [],
   "source": [],
   "metadata": {
    "collapsed": false,
    "pycharm": {
     "name": "#%%\n"
    }
   }
  },
  {
   "cell_type": "markdown",
   "source": [],
   "metadata": {
    "collapsed": false,
    "pycharm": {
     "name": "#%% md\n"
    }
   }
  }
 ],
 "metadata": {
  "kernelspec": {
   "display_name": "Python 3",
   "language": "python",
   "name": "python3"
  },
  "language_info": {
   "codemirror_mode": {
    "name": "ipython",
    "version": 2
   },
   "file_extension": ".py",
   "mimetype": "text/x-python",
   "name": "python",
   "nbconvert_exporter": "python",
   "pygments_lexer": "ipython2",
   "version": "2.7.6"
  }
 },
 "nbformat": 4,
 "nbformat_minor": 0
}