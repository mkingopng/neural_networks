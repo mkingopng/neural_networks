{
 "cells": [
  {
   "cell_type": "markdown",
   "source": [
    "https://towardsdatascience.com/probability-for-machine-learning-2cfe4aa13101"
   ],
   "metadata": {
    "collapsed": false,
    "pycharm": {
     "name": "#%% md\n"
    }
   }
  },
  {
   "cell_type": "markdown",
   "source": [
    "# Probability for machine learning\n",
    "import libraries"
   ],
   "metadata": {
    "collapsed": false,
    "pycharm": {
     "name": "#%% md\n"
    }
   }
  },
  {
   "cell_type": "code",
   "execution_count": 42,
   "metadata": {
    "collapsed": true,
    "pycharm": {
     "name": "#%%\n"
    }
   },
   "outputs": [
    {
     "name": "stdout",
     "output_type": "stream",
     "text": [
      "11.75\n"
     ]
    }
   ],
   "source": [
    "import numpy as np\n",
    "import scipy.stats as stats\n",
    "from scipy.stats import bernoulli\n",
    "from scipy.special import factorial\n",
    "from scipy.spatial.distance import pdist, squareform\n",
    "import seaborn as sb\n",
    "import math\n",
    "import matplotlib.pyplot as plt\n",
    "import matplotlib.patches as patches\n",
    "import matplotlib.path as path\n",
    "from matplotlib.animation import FuncAnimation\n",
    "\n",
    "import sympy"
   ]
  },
  {
   "cell_type": "markdown",
   "source": [
    "Expected Value (mean)"
   ],
   "metadata": {
    "collapsed": false,
    "pycharm": {
     "name": "#%% md\n"
    }
   }
  },
  {
   "cell_type": "code",
   "execution_count": null,
   "outputs": [],
   "source": [
    "arr = np.array([10, 5, 19, 13])\n",
    "print(np.mean(arr))"
   ],
   "metadata": {
    "collapsed": false,
    "pycharm": {
     "name": "#%%\n"
    }
   }
  },
  {
   "cell_type": "markdown",
   "source": [
    "variance"
   ],
   "metadata": {
    "collapsed": false,
    "pycharm": {
     "name": "#%% md\n"
    }
   }
  },
  {
   "cell_type": "code",
   "execution_count": 43,
   "outputs": [
    {
     "name": "stdout",
     "output_type": "stream",
     "text": [
      "25.6875\n"
     ]
    }
   ],
   "source": [
    "arr = np.array([10, 5, 19, 13])\n",
    "print(np.var(arr))"
   ],
   "metadata": {
    "collapsed": false,
    "pycharm": {
     "name": "#%%\n"
    }
   }
  },
  {
   "cell_type": "markdown",
   "source": [
    "standard deviation"
   ],
   "metadata": {
    "collapsed": false,
    "pycharm": {
     "name": "#%% md\n"
    }
   }
  },
  {
   "cell_type": "code",
   "execution_count": 44,
   "outputs": [
    {
     "name": "stdout",
     "output_type": "stream",
     "text": [
      "5.0682837331783235\n"
     ]
    }
   ],
   "source": [
    "arr = np.array([10, 5, 19, 13])\n",
    "print(np.std(arr))"
   ],
   "metadata": {
    "collapsed": false,
    "pycharm": {
     "name": "#%%\n"
    }
   }
  },
  {
   "cell_type": "markdown",
   "source": [
    "covariance"
   ],
   "metadata": {
    "collapsed": false,
    "pycharm": {
     "name": "#%% md\n"
    }
   }
  },
  {
   "cell_type": "code",
   "execution_count": 45,
   "outputs": [
    {
     "name": "stdout",
     "output_type": "stream",
     "text": [
      "[[17.33333333 -4.        ]\n",
      " [-4.          1.        ]]\n"
     ]
    }
   ],
   "source": [
    "arr = np.array([[13, 19, 21], [5, 4, 3]])\n",
    "print(np.cov(arr))"
   ],
   "metadata": {
    "collapsed": false,
    "pycharm": {
     "name": "#%%\n"
    }
   }
  },
  {
   "cell_type": "markdown",
   "source": [
    "gaussian or normal distribution"
   ],
   "metadata": {
    "collapsed": false,
    "pycharm": {
     "name": "#%% md\n"
    }
   }
  },
  {
   "cell_type": "code",
   "execution_count": 46,
   "outputs": [
    {
     "data": {
      "text/plain": "<Figure size 432x288 with 1 Axes>",
      "image/png": "[encoded data removed]"
     },
     "metadata": {
      "needs_background": "light"
     },
     "output_type": "display_data"
    }
   ],
   "source": [
    "mu = 0\n",
    "variance = 1\n",
    "sigma = math.sqrt(variance)\n",
    "x = np.linspace(mu - 3*sigma, mu + 3*sigma, 100)\n",
    "plt.plot(x, stats.norm.pdf(x, mu, sigma))\n",
    "plt.show()"
   ],
   "metadata": {
    "collapsed": false,
    "pycharm": {
     "name": "#%%\n"
    }
   }
  },
  {
   "cell_type": "markdown",
   "source": [
    "exponential distribution"
   ],
   "metadata": {
    "collapsed": false,
    "pycharm": {
     "name": "#%% md\n"
    }
   }
  },
  {
   "cell_type": "code",
   "execution_count": 47,
   "outputs": [
    {
     "data": {
      "text/plain": "<Figure size 432x288 with 1 Axes>",
      "image/png": "[encoded data removed]"
     },
     "metadata": {
      "needs_background": "light"
     },
     "output_type": "display_data"
    }
   ],
   "source": [
    "# fixing the seed for reproducibility of the result\n",
    "np.random.seed(10)\n",
    "size = 10000\n",
    "\n",
    "# drawing 10000 sample from exponential distribution\n",
    "sample = np.random.exponential(1, size)\n",
    "bin = np.arange(0,10,0.1)\n",
    "\n",
    "plt.hist(sample, bins=bin, edgecolor='blue')\n",
    "plt.title(\"Exponential Distribution\")\n",
    "plt.show()"
   ],
   "metadata": {
    "collapsed": false,
    "pycharm": {
     "name": "#%%\n"
    }
   }
  },
  {
   "cell_type": "markdown",
   "source": [
    "Gamma distribution"
   ],
   "metadata": {
    "collapsed": false,
    "pycharm": {
     "name": "#%% md\n"
    }
   }
  },
  {
   "cell_type": "code",
   "execution_count": 48,
   "outputs": [
    {
     "data": {
      "text/plain": "<Figure size 432x288 with 1 Axes>",
      "image/png": "[encoded data removed]"
     },
     "metadata": {
      "needs_background": "light"
     },
     "output_type": "display_data"
    }
   ],
   "source": [
    "# define x-axis values\n",
    "x = np.linspace (0, 40, 100)\n",
    "# calculate pdf of Gamma distribution for each x-value\n",
    "y = stats.gamma.pdf(x, a=5, scale=3)\n",
    "plt.plot(x, y)\n",
    "plt.show()"
   ],
   "metadata": {
    "collapsed": false,
    "pycharm": {
     "name": "#%%\n"
    }
   }
  },
  {
   "cell_type": "markdown",
   "source": [
    "Binomial distribution"
   ],
   "metadata": {
    "collapsed": false,
    "pycharm": {
     "name": "#%% md\n"
    }
   }
  },
  {
   "cell_type": "code",
   "execution_count": 48,
   "outputs": [],
   "source": [],
   "metadata": {
    "collapsed": false,
    "pycharm": {
     "name": "#%%\n"
    }
   }
  },
  {
   "cell_type": "markdown",
   "source": [
    "Bernoulli distribution"
   ],
   "metadata": {
    "collapsed": false,
    "pycharm": {
     "name": "#%% md\n"
    }
   }
  },
  {
   "cell_type": "code",
   "execution_count": 49,
   "outputs": [
    {
     "name": "stderr",
     "output_type": "stream",
     "text": [
      "/tmp/ipykernel_84431/2175838640.py:2: UserWarning: \n",
      "\n",
      "`distplot` is a deprecated function and will be removed in seaborn v0.14.0.\n",
      "\n",
      "Please adapt your code to use either `displot` (a figure-level function with\n",
      "similar flexibility) or `histplot` (an axes-level function for histograms).\n",
      "\n",
      "For a guide to updating your code to use the new functions, please see\n",
      "https://gist.github.com/mwaskom/de44147ed2974457ad6372750bbe5751\n",
      "\n",
      "  ax = sb.distplot(data_bern,\n"
     ]
    },
    {
     "data": {
      "text/plain": "[Text(0.5, 0, 'Bernouli'), Text(0, 0.5, 'Frequency')]"
     },
     "execution_count": 49,
     "metadata": {},
     "output_type": "execute_result"
    },
    {
     "data": {
      "text/plain": "<Figure size 432x288 with 1 Axes>",
      "image/png": "[encoded data removed]"
     },
     "metadata": {
      "needs_background": "light"
     },
     "output_type": "display_data"
    }
   ],
   "source": [
    "data_bern = bernoulli.rvs(size=1000,p=0.6)\n",
    "ax = sb.distplot(data_bern,\n",
    "                 kde=True,\n",
    "                 color='crimson',\n",
    "                 hist_kws={\"linewidth\": 25,'alpha':1}\n",
    "                 )\n",
    "ax.set(xlabel='Bernouli', ylabel='Frequency')"
   ],
   "metadata": {
    "collapsed": false,
    "pycharm": {
     "name": "#%%\n"
    }
   }
  },
  {
   "cell_type": "markdown",
   "source": [
    "Poisson Distribution"
   ],
   "metadata": {
    "collapsed": false,
    "pycharm": {
     "name": "#%% md\n"
    }
   }
  },
  {
   "cell_type": "code",
   "execution_count": 50,
   "outputs": [
    {
     "data": {
      "text/plain": "<Figure size 432x288 with 1 Axes>",
      "image/png": "[encoded data removed]"
     },
     "metadata": {
      "needs_background": "light"
     },
     "output_type": "display_data"
    }
   ],
   "source": [
    "t = np.arange(0, 20, 0.1)\n",
    "d = np.exp(-5)*np.power(5, t)/factorial(t)\n",
    "\n",
    "plt.plot(t, d, 'bs')\n",
    "plt.show()"
   ],
   "metadata": {
    "collapsed": false,
    "pycharm": {
     "name": "#%%\n"
    }
   }
  },
  {
   "cell_type": "markdown",
   "source": [
    "Boltzmann Distribution"
   ],
   "metadata": {
    "collapsed": false,
    "pycharm": {
     "name": "#%% md\n"
    }
   }
  },
  {
   "cell_type": "code",
   "execution_count": 51,
   "outputs": [
    {
     "data": {
      "text/plain": "<Figure size 1000x500 with 2 Axes>",
      "image/png": "[encoded data removed]"
     },
     "metadata": {
      "needs_background": "light"
     },
     "output_type": "display_data"
    }
   ],
   "source": [
    "X, Y = 0, 1\n",
    "class MDSimulation:\n",
    "\n",
    "    def __init__(self, pos, vel, r, m):\n",
    "        \"\"\"\n",
    "        Initialize the simulation with identical, circular particles of radius\n",
    "        r and mass m. The n x 2 state arrays pos and vel hold the n particles'\n",
    "        positions in their rows as (x_i, y_i) and (vx_i, vy_i).\n",
    "\n",
    "        \"\"\"\n",
    "\n",
    "        self.pos = np.asarray(pos, dtype=float)\n",
    "        self.vel = np.asarray(vel, dtype=float)\n",
    "        self.n = self.pos.shape[0]\n",
    "        self.r = r\n",
    "        self.m = m\n",
    "        self.nsteps = 0\n",
    "\n",
    "    def advance(self, dt):\n",
    "        \"\"\"Advance the simulation by dt seconds.\"\"\"\n",
    "\n",
    "        self.nsteps += 1\n",
    "        # Update the particles' positions according to their velocities.\n",
    "        self.pos += self.vel * dt\n",
    "        # Find indices for all unique collisions.\n",
    "        dist = squareform(pdist(self.pos))\n",
    "        iarr, jarr = np.where(dist < 2 * self.r)\n",
    "        k = iarr < jarr\n",
    "        iarr, jarr = iarr[k], jarr[k]\n",
    "\n",
    "        # For each collision, update the velocities of the particles involved.\n",
    "        for i, j in zip(iarr, jarr):\n",
    "            pos_i, vel_i = self.pos[i], self.vel[i]\n",
    "            pos_j, vel_j =  self.pos[j], self.vel[j]\n",
    "            rel_pos, rel_vel = pos_i - pos_j, vel_i - vel_j\n",
    "            r_rel = rel_pos @ rel_pos\n",
    "            v_rel = rel_vel @ rel_pos\n",
    "            v_rel = 2 * rel_pos * v_rel / r_rel - rel_vel\n",
    "            v_cm = (vel_i + vel_j) / 2\n",
    "            self.vel[i] = v_cm - v_rel/2\n",
    "            self.vel[j] = v_cm + v_rel/2\n",
    "\n",
    "        # Bounce the particles off the walls where necessary, by reflecting\n",
    "        # their velocity vectors.\n",
    "        hit_left_wall = self.pos[:, X] < self.r\n",
    "        hit_right_wall = self.pos[:, X] > 1 - self.r\n",
    "        hit_bottom_wall = self.pos[:, Y] < self.r\n",
    "        hit_top_wall = self.pos[:, Y] > 1 - self.r\n",
    "        self.vel[hit_left_wall | hit_right_wall, X] *= -1\n",
    "        self.vel[hit_bottom_wall | hit_top_wall, Y] *= -1\n",
    "\n",
    "# Number of particles.\n",
    "n = 1000\n",
    "# Scaling factor for distance, m-1. The box dimension is therefore 1/rscale.\n",
    "rscale = 5.e6\n",
    "# Use the van der Waals radius of Ar, about 0.2 nm.\n",
    "r = 2e-10 * rscale\n",
    "# Scale time by this factor, in s-1.\n",
    "tscale = 1e9    # i.e. time will be measured in nanoseconds.\n",
    "# Take the mean speed to be the root-mean-square velocity of Ar at 300 K.\n",
    "sbar = 353 * rscale / tscale\n",
    "# Time step in scaled time units.\n",
    "FPS = 30\n",
    "dt = 1/FPS\n",
    "# Particle masses, scaled by some factor we're not using yet.\n",
    "m = 1\n",
    "\n",
    "# Initialize the particles' positions randomly.\n",
    "pos = np.random.random((n, 2))\n",
    "# Initialize the particles velocities with random orientations and random\n",
    "# magnitudes  around the mean speed, sbar.\n",
    "theta = np.random.random(n) * 2 * np.pi\n",
    "s0 = sbar * np.random.random(n)\n",
    "vel = (s0 * np.array((np.cos(theta), np.sin(theta)))).T\n",
    "\n",
    "sim = MDSimulation(pos, vel, r, m)\n",
    "\n",
    "# Set up the Figure and make some adjustments to improve its appearance.\n",
    "DPI = 100\n",
    "width, height = 1000, 500\n",
    "fig = plt.figure(figsize=(width/DPI, height/DPI), dpi=DPI)\n",
    "fig.subplots_adjust(left=0, right=0.97)\n",
    "sim_ax = fig.add_subplot(121, aspect='equal', autoscale_on=False)\n",
    "sim_ax.set_xticks([])\n",
    "sim_ax.set_yticks([])\n",
    "# Make the box walls a bit more substantial.\n",
    "for spine in sim_ax.spines.values():\n",
    "    spine.set_linewidth(2)\n",
    "\n",
    "speed_ax = fig.add_subplot(122)\n",
    "speed_ax.set_xlabel('Speed $v\\,/m\\,s^{-1}$')\n",
    "speed_ax.set_ylabel('$f(v)$')\n",
    "\n",
    "particles, = sim_ax.plot([], [], 'ko')\n",
    "\n",
    "class Histogram:\n",
    "    \"\"\"A class to draw a Matplotlib histogram as a collection of Patches.\"\"\"\n",
    "\n",
    "    def __init__(self, data, xmax, nbars, density=False):\n",
    "        \"\"\"Initialize the histogram from the data and requested bins.\"\"\"\n",
    "        self.nbars = nbars\n",
    "        self.density = density\n",
    "        self.bins = np.linspace(0, xmax, nbars)\n",
    "        self.hist, bins = np.histogram(data, self.bins, density=density)\n",
    "\n",
    "        # Drawing the histogram with Matplotlib patches owes a lot to\n",
    "        # https://matplotlib.org/3.1.1/gallery/animation/animated_histogram.html\n",
    "        # Get the corners of the rectangles for the histogram.\n",
    "        self.left = np.array(bins[:-1])\n",
    "        self.right = np.array(bins[1:])\n",
    "        self.bottom = np.zeros(len(self.left))\n",
    "        self.top = self.bottom + self.hist\n",
    "        nrects = len(self.left)\n",
    "        self.nverts = nrects * 5\n",
    "        self.verts = np.zeros((self.nverts, 2))\n",
    "        self.verts[0::5, 0] = self.left\n",
    "        self.verts[0::5, 1] = self.bottom\n",
    "        self.verts[1::5, 0] = self.left\n",
    "        self.verts[1::5, 1] = self.top\n",
    "        self.verts[2::5, 0] = self.right\n",
    "        self.verts[2::5, 1] = self.top\n",
    "        self.verts[3::5, 0] = self.right\n",
    "        self.verts[3::5, 1] = self.bottom\n",
    "\n",
    "    def draw(self, ax):\n",
    "        \"\"\"Draw the histogram by adding appropriate patches to Axes ax.\"\"\"\n",
    "        codes = np.ones(self.nverts, int) * path.Path.LINETO\n",
    "        codes[0::5] = path.Path.MOVETO\n",
    "        codes[4::5] = path.Path.CLOSEPOLY\n",
    "        barpath = path.Path(self.verts, codes)\n",
    "        self.patch = patches.PathPatch(barpath, fc='tab:green', ec='k',\n",
    "                                  lw=0.5, alpha=0.5)\n",
    "        ax.add_patch(self.patch)\n",
    "\n",
    "    def update(self, data):\n",
    "        \"\"\"Update the rectangle vertices using a new histogram from data.\"\"\"\n",
    "        self.hist, bins = np.histogram(data, self.bins, density=self.density)\n",
    "        self.top = self.bottom + self.hist\n",
    "        self.verts[1::5, 1] = self.top\n",
    "        self.verts[2::5, 1] = self.top\n",
    "\n",
    "\n",
    "def get_speeds(vel):\n",
    "    \"\"\"Return the magnitude of the (n,2) array of velocities, vel.\"\"\"\n",
    "    return np.hypot(vel[:, X], vel[:, Y])\n",
    "\n",
    "def get_KE(speeds):\n",
    "    \"\"\"Return the total kinetic energy of all particles in scaled units.\"\"\"\n",
    "    return 0.5 * sim.m * sum(speeds**2)\n",
    "\n",
    "speeds = get_speeds(sim.vel)\n",
    "speed_hist = Histogram(speeds, 2 * sbar, 50, density=True)\n",
    "speed_hist.draw(speed_ax)\n",
    "speed_ax.set_xlim(speed_hist.left[0], speed_hist.right[-1])\n",
    "# TODO don't hardcode the upper limit for the histogram speed axis.\n",
    "ticks = np.linspace(0, 600, 7, dtype=int)\n",
    "speed_ax.set_xticks(ticks * rscale/tscale)\n",
    "speed_ax.set_xticklabels([str(tick) for tick in ticks])\n",
    "speed_ax.set_yticks([])\n",
    "\n",
    "fig.tight_layout()\n",
    "\n",
    "# The 2D Maxwell-Boltzmann equilibrium distribution of speeds.\n",
    "mean_KE = get_KE(speeds) / n\n",
    "a = sim.m / 2 / mean_KE\n",
    "# Use a high-resolution grid of speed points so that the exact distribution\n",
    "# looks smooth.\n",
    "sgrid_hi = np.linspace(0, speed_hist.bins[-1], 200)\n",
    "f = 2 * a * sgrid_hi * np.exp(-a * sgrid_hi**2)\n",
    "mb_line, = speed_ax.plot(sgrid_hi, f, c='0.7')\n",
    "# Maximum value of the 2D Maxwell-Boltzmann speed distribution.\n",
    "fmax = np.sqrt(sim.m / mean_KE / np.e)\n",
    "speed_ax.set_ylim(0, fmax)\n",
    "\n",
    "# For the distribution derived by averaging, take the abcissa speed points from\n",
    "# the centre of the histogram bars.\n",
    "sgrid = (speed_hist.bins[1:] + speed_hist.bins[:-1]) / 2\n",
    "mb_est_line, = speed_ax.plot([], [], c='r')\n",
    "mb_est = np.zeros(len(sgrid))\n",
    "\n",
    "# A text label indicating the time and step number for each animation frame.\n",
    "xlabel, ylabel = sgrid[-1] / 2, 0.8 * fmax\n",
    "label = speed_ax.text(xlabel, ylabel, '$t$ = {:.1f}s, step = {:d}'.format(0, 0),\n",
    "                      backgroundcolor='w')\n",
    "\n",
    "def init_anim():\n",
    "    \"\"\"Initialize the animation\"\"\"\n",
    "    particles.set_data([], [])\n",
    "\n",
    "    return particles, speed_hist.patch, mb_est_line, label\n",
    "\n",
    "def animate(i):\n",
    "    \"\"\"Advance the animation by one step and update the frame.\"\"\"\n",
    "    global sim, verts, mb_est_line, mb_est\n",
    "    sim.advance(dt)\n",
    "\n",
    "    particles.set_data(sim.pos[:, X], sim.pos[:, Y])\n",
    "    particles.set_markersize(0.5)\n",
    "\n",
    "    speeds = get_speeds(sim.vel)\n",
    "    speed_hist.update(speeds)\n",
    "\n",
    "    # Once the simulation has approached equilibrium a bit, start averaging\n",
    "    # the speed distribution to indicate the approximation to the Maxwell-\n",
    "    # Boltzmann distribution.\n",
    "    if i >= IAV_START:\n",
    "        mb_est += (speed_hist.hist - mb_est) / (i - IAV_START + 1)\n",
    "        mb_est_line.set_data(sgrid, mb_est)\n",
    "\n",
    "    label.set_text('$t$ = {:.1f} ns, step = {:d}'.format(i*dt, i))\n",
    "\n",
    "    return particles, speed_hist.patch, mb_est_line, label\n",
    "\n",
    "# Only start averaging the speed distribution after frame number IAV_ST.\n",
    "IAV_START = 200\n",
    "# Number of frames; set to None to run until explicitly quit.\n",
    "frames = 1000\n",
    "anim = FuncAnimation(fig, animate, frames=frames, interval=10, blit=False,\n",
    "                    init_func=init_anim)\n",
    "\n",
    "plt.show()"
   ],
   "metadata": {
    "collapsed": false,
    "pycharm": {
     "name": "#%%\n"
    }
   }
  },
  {
   "cell_type": "markdown",
   "source": [],
   "metadata": {
    "collapsed": false,
    "pycharm": {
     "name": "#%% md\n"
    }
   }
  },
  {
   "cell_type": "markdown",
   "source": [],
   "metadata": {
    "collapsed": false,
    "pycharm": {
     "name": "#%% md\n"
    }
   }
  },
  {
   "cell_type": "code",
   "execution_count": null,
   "outputs": [],
   "source": [],
   "metadata": {
    "collapsed": false,
    "pycharm": {
     "name": "#%%\n"
    }
   }
  },
  {
   "cell_type": "markdown",
   "source": [],
   "metadata": {
    "collapsed": false,
    "pycharm": {
     "name": "#%% md\n"
    }
   }
  },
  {
   "cell_type": "code",
   "execution_count": null,
   "outputs": [],
   "source": [],
   "metadata": {
    "collapsed": false,
    "pycharm": {
     "name": "#%%\n"
    }
   }
  }
 ],
 "metadata": {
  "kernelspec": {
   "display_name": "Python 3",
   "language": "python",
   "name": "python3"
  },
  "language_info": {
   "codemirror_mode": {
    "name": "ipython",
    "version": 2
   },
   "file_extension": ".py",
   "mimetype": "text/x-python",
   "name": "python",
   "nbconvert_exporter": "python",
   "pygments_lexer": "ipython2",
   "version": "2.7.6"
  }
 },
 "nbformat": 4,
 "nbformat_minor": 0
}