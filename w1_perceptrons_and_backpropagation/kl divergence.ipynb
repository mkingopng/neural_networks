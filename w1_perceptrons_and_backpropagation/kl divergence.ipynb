{
 "cells": [
  {
   "cell_type": "markdown",
   "id": "e3565a63",
   "metadata": {},
   "source": [
    "# KL Divergence\n",
    "natural log"
   ]
  },
  {
   "cell_type": "code",
   "execution_count": null,
   "id": "7e14ee0e",
   "metadata": {},
   "outputs": [],
   "source": [
    "import numpy as np"
   ]
  },
  {
   "cell_type": "code",
   "execution_count": null,
   "id": "59b1df6b",
   "metadata": {},
   "outputs": [],
   "source": [
    "from scipy.special import kl_div\n",
    "kl_pq = sum(kl_div(p, q))\n",
    "kl_pq"
   ]
  },
  {
   "cell_type": "code",
   "execution_count": null,
   "id": "1825f1a0",
   "metadata": {},
   "outputs": [],
   "source": [
    "kl_qp = sum(kl_div(q, p))\n",
    "kl_qp"
   ]
  },
  {
   "cell_type": "code",
   "execution_count": null,
   "id": "f17d798e",
   "metadata": {},
   "outputs": [],
   "source": [
    "from scipy.special import rel_entr\n",
    "\n",
    "kl_pq = sum(rel_entr(p, q))\n",
    "kl_pq"
   ]
  },
  {
   "cell_type": "code",
   "execution_count": null,
   "id": "5dc4ec56",
   "metadata": {},
   "outputs": [],
   "source": [
    "kl_qp = sum(rel_entr(q, p))\n",
    "kl_qp"
   ]
  },
  {
   "cell_type": "markdown",
   "id": "492c6456",
   "metadata": {},
   "source": [
    "log base 2"
   ]
  },
  {
   "cell_type": "code",
   "execution_count": null,
   "id": "6d0d5945",
   "metadata": {},
   "outputs": [],
   "source": [
    "def kl_divergence(p, q):\n",
    " return sum(p[i] * np.log2(p[i]/q[i]) for i in range(len(p)))"
   ]
  },
  {
   "cell_type": "code",
   "execution_count": null,
   "id": "854b13c0",
   "metadata": {},
   "outputs": [],
   "source": [
    "kl_pq = kl_divergence(p, q)\n",
    "kl_pq"
   ]
  },
  {
   "cell_type": "code",
   "execution_count": null,
   "id": "79ba802e",
   "metadata": {},
   "outputs": [],
   "source": [
    "kl_qp = kl_divergence(q, p)\n",
    "kl_qp"
   ]
  }
 ],
 "metadata": {
  "kernelspec": {
   "display_name": "Python 3 (ipykernel)",
   "language": "python",
   "name": "python3"
  },
  "language_info": {
   "codemirror_mode": {
    "name": "ipython",
    "version": 3
   },
   "file_extension": ".py",
   "mimetype": "text/x-python",
   "name": "python",
   "nbconvert_exporter": "python",
   "pygments_lexer": "ipython3",
   "version": "3.10.4"
  }
 },
 "nbformat": 4,
 "nbformat_minor": 5
}
