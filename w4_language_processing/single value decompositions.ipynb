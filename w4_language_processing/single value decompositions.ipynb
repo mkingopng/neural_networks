{
 "cells": [
  {
   "cell_type": "markdown",
   "source": [
    "# Single Value Decomposition\n",
    "Consider the sentence: \"two flowers grew tall on two tall towers\""
   ],
   "metadata": {
    "collapsed": false
   }
  },
  {
   "cell_type": "markdown",
   "source": [
    "### question 1\n",
    "write the co-occurrence matrix X for this sentence, using a 4-word context window (ie two context words on either side of the central word)."
   ],
   "metadata": {
    "collapsed": false
   }
  },
  {
   "cell_type": "markdown",
   "source": [],
   "metadata": {
    "collapsed": false
   }
  },
  {
   "cell_type": "markdown",
   "source": [
    "### question 2\n",
    "use `torch.svd()` to compute the singular value decomposition of this matrix $X=USV^T$.\n"
   ],
   "metadata": {
    "collapsed": false
   }
  },
  {
   "cell_type": "code",
   "execution_count": 1,
   "outputs": [
    {
     "name": "stdout",
     "output_type": "stream",
     "text": [
      "tensor([[-0.30,  0.24,  0.38, -0.36,  0.41,  0.64],\n",
      "        [-0.37, -0.11, -0.03,  0.80,  0.47,  0.04],\n",
      "        [-0.41,  0.53,  0.29, -0.12,  0.08, -0.67],\n",
      "        [-0.56, -0.74,  0.16, -0.27, -0.13, -0.14],\n",
      "        [-0.22,  0.19,  0.37,  0.36, -0.75,  0.29],\n",
      "        [-0.50,  0.25, -0.78, -0.13, -0.17,  0.17]])\n",
      "tensor([4.83, 2.53, 1.70, 1.10, 0.40, 0.11])\n",
      "tensor([[-0.30, -0.24, -0.38,  0.36,  0.41,  0.64],\n",
      "        [-0.37,  0.11,  0.03, -0.80,  0.47,  0.04],\n",
      "        [-0.41, -0.53, -0.29,  0.12,  0.08, -0.67],\n",
      "        [-0.56,  0.74, -0.16,  0.27, -0.13, -0.14],\n",
      "        [-0.22, -0.19, -0.37, -0.36, -0.75,  0.29],\n",
      "        [-0.50, -0.25,  0.78,  0.13, -0.17,  0.17]])\n"
     ]
    }
   ],
   "source": [
    "import torch\n",
    "\n",
    "M = torch.Tensor(\n",
    "    [[0, 1, 0, 1, 0, 1],\n",
    "     [1, 0, 1, 1, 0, 1],\n",
    "     [0, 1, 0, 2, 0, 1],\n",
    "     [1, 1, 2, 0, 1, 2],\n",
    "     [0, 0, 0, 1, 0, 1],\n",
    "     [1, 1, 1, 2, 1, 0]])\n",
    "\n",
    "U, S, V = torch.svd(M)\n",
    "\n",
    "torch.set_printoptions(precision=2)\n",
    "\n",
    "print(U)\n",
    "print(S)\n",
    "print(V)"
   ],
   "metadata": {
    "collapsed": false
   }
  },
  {
   "cell_type": "markdown",
   "source": [
    "### question 3\n",
    "Extract a word representation from the first two columns of $U$ and use Matplotlib to plot the words on a 2 dimensional graph."
   ],
   "metadata": {
    "collapsed": false
   }
  },
  {
   "cell_type": "code",
   "execution_count": 2,
   "outputs": [
    {
     "data": {
      "text/plain": "<Figure size 640x480 with 1 Axes>",
      "image/png": "[encoded data removed]"
     },
     "metadata": {},
     "output_type": "display_data"
    }
   ],
   "source": [
    "import matplotlib.pyplot as plt\n",
    "import torch\n",
    "\n",
    "M = torch.Tensor(\n",
    "    [[0, 1, 0, 1, 0, 1],\n",
    "     [1, 0, 1, 1, 0, 1],\n",
    "     [0, 1, 0, 2, 0, 1],\n",
    "     [1, 1, 2, 0, 1, 2],\n",
    "     [0, 0, 0, 1, 0, 1],\n",
    "     [1, 1, 1, 2, 1, 0]])\n",
    "\n",
    "U, S, V = torch.svd(M)\n",
    "\n",
    "torch.set_printoptions(precision=2)\n",
    "\n",
    "Lex = ['flowers', 'grew', 'on', 'tall', 'towers', 'two']\n",
    "\n",
    "plt.scatter(U[:, 0], U[:, 1], c='Blue')\n",
    "plt.xlim([-0.6, -0.1])\n",
    "\n",
    "for a in range(U.size()[0]):\n",
    "    plt.text(0.01 + U[a, 0], U[a, 1], Lex[a])\n",
    "\n",
    "plt.savefig('vectors.png')\n",
    "plt.show()"
   ],
   "metadata": {
    "collapsed": false
   }
  }
 ],
 "metadata": {
  "kernelspec": {
   "display_name": "Python 3",
   "language": "python",
   "name": "python3"
  },
  "language_info": {
   "codemirror_mode": {
    "name": "ipython",
    "version": 2
   },
   "file_extension": ".py",
   "mimetype": "text/x-python",
   "name": "python",
   "nbconvert_exporter": "python",
   "pygments_lexer": "ipython2",
   "version": "2.7.6"
  }
 },
 "nbformat": 4,
 "nbformat_minor": 0
}
