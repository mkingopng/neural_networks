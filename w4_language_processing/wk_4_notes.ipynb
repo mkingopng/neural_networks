{
 "cells": [
  {
   "cell_type": "markdown",
   "source": [
    "### Question 1\n",
    "Explain the format and method by which input was fed into the NetTalk System, and the target output"
   ],
   "metadata": {
    "collapsed": false
   }
  },
  {
   "cell_type": "code",
   "execution_count": null,
   "metadata": {
    "collapsed": true
   },
   "outputs": [],
   "source": []
  },
  {
   "cell_type": "markdown",
   "source": [
    "### Question 2\n",
    "Explain the role of the context layer in an Elman network."
   ],
   "metadata": {
    "collapsed": false
   }
  },
  {
   "cell_type": "code",
   "execution_count": null,
   "outputs": [],
   "source": [],
   "metadata": {
    "collapsed": false
   }
  },
  {
   "cell_type": "markdown",
   "source": [
    "### Question 3\n",
    "Drawn an LSTM and write the equations for its operation"
   ],
   "metadata": {
    "collapsed": false
   }
  },
  {
   "cell_type": "code",
   "execution_count": null,
   "outputs": [],
   "source": [],
   "metadata": {
    "collapsed": false
   }
  },
  {
   "cell_type": "markdown",
   "source": [
    "### Question 4\n",
    "Draw a diagram of a gated recurrent uni and write the equations for its operation"
   ],
   "metadata": {
    "collapsed": false
   }
  },
  {
   "cell_type": "code",
   "execution_count": null,
   "outputs": [],
   "source": [],
   "metadata": {
    "collapsed": false
   }
  },
  {
   "cell_type": "markdown",
   "source": [
    "### Question 5\n",
    "Briefly describe the problem of long range dependencies and discuss how well each of the following architectures is able to deal with long range dependencies:\n",
    "- sliding window approach\n",
    "- Simple Recurrent (Elman) network\n",
    "- Long Short Term Memory (LSTM)\n",
    "- Gated Recurrent Unit (GRU)"
   ],
   "metadata": {
    "collapsed": false
   }
  },
  {
   "cell_type": "code",
   "execution_count": null,
   "outputs": [],
   "source": [],
   "metadata": {
    "collapsed": false
   }
  },
  {
   "cell_type": "markdown",
   "source": [
    "### Question 7\n",
    "In this exercise we will test the ability of **SRN** and **LSTM** to learn the Reber Grammar (RG) and Embedded Reber Grammar (ERG). Specifically, we will test the following:\n",
    "\n",
    "- train an SRN on the Reber grammar (RG)\n",
    "- Train an SRN on the Embedded Reber Grammar (ERG)\n",
    "- Train an LSTM on the ERG\n",
    "- We'll have one more setting shere we train the model on only sequences that exceed a specified minimum length\n"
   ],
   "metadata": {
    "collapsed": false
   }
  },
  {
   "cell_type": "code",
   "execution_count": null,
   "outputs": [],
   "source": [],
   "metadata": {
    "collapsed": false
   }
  },
  {
   "cell_type": "markdown",
   "source": [],
   "metadata": {
    "collapsed": false
   }
  }
 ],
 "metadata": {
  "kernelspec": {
   "display_name": "Python 3",
   "language": "python",
   "name": "python3"
  },
  "language_info": {
   "codemirror_mode": {
    "name": "ipython",
    "version": 2
   },
   "file_extension": ".py",
   "mimetype": "text/x-python",
   "name": "python",
   "nbconvert_exporter": "python",
   "pygments_lexer": "ipython2",
   "version": "2.7.6"
  }
 },
 "nbformat": 4,
 "nbformat_minor": 0
}
