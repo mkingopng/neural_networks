{
 "cells": [
  {
   "cell_type": "markdown",
   "source": [
    "# Derive the number of features\n",
    "K = the convolutional filter\n",
    "W = input image size\n",
    "P = padding size\n",
    "S = stride"
   ],
   "metadata": {
    "collapsed": false,
    "pycharm": {
     "name": "#%% md\n"
    }
   }
  },
  {
   "cell_type": "code",
   "execution_count": 6,
   "outputs": [],
   "source": [
    "W = 32  # input image size\n",
    "K = 5  # the convolutional filter"
   ],
   "metadata": {
    "collapsed": false,
    "pycharm": {
     "name": "#%%\n"
    }
   }
  },
  {
   "cell_type": "markdown",
   "source": [
    "# variant 1\n",
    "The output size of of the convolutional layer can be given as $O = W - (K-1)$"
   ],
   "metadata": {
    "collapsed": false,
    "pycharm": {
     "name": "#%% md\n"
    }
   }
  },
  {
   "cell_type": "code",
   "execution_count": 7,
   "metadata": {
    "collapsed": true,
    "pycharm": {
     "name": "#%%\n"
    }
   },
   "outputs": [
    {
     "data": {
      "text/plain": "28"
     },
     "execution_count": 7,
     "metadata": {},
     "output_type": "execute_result"
    }
   ],
   "source": [
    "O = W - (K - 1)  # variant 1\n",
    "O  # since we are using square images, the output size is O x O or 28 x 28"
   ]
  },
  {
   "cell_type": "markdown",
   "source": [
    "# variant 2\n",
    "for cases where padding is non-zero and/or stride is >1, the output size can be given as $O = (((W-K + 2P)/S) + 1)$"
   ],
   "metadata": {
    "collapsed": false,
    "pycharm": {
     "name": "#%% md\n"
    }
   }
  },
  {
   "cell_type": "code",
   "execution_count": 10,
   "outputs": [],
   "source": [
    "J = 50  # width\n",
    "K = 50  # height\n",
    "M = 7  # filter width\n",
    "n = 7  # filter height\n",
    "s = 3  # stride\n",
    "P = 1  # padding\n",
    "filters = 12"
   ],
   "metadata": {
    "collapsed": false,
    "pycharm": {
     "name": "#%%\n"
    }
   }
  },
  {
   "cell_type": "code",
   "execution_count": 11,
   "outputs": [
    {
     "data": {
      "text/plain": "16"
     },
     "execution_count": 11,
     "metadata": {},
     "output_type": "execute_result"
    }
   ],
   "source": [
    "from math import ceil\n",
    "height = ceil(1 + (J - M) / s)\n",
    "height"
   ],
   "metadata": {
    "collapsed": false,
    "pycharm": {
     "name": "#%%\n"
    }
   }
  },
  {
   "cell_type": "code",
   "execution_count": null,
   "outputs": [],
   "source": [
    "J = 42  # input height\n",
    "K = 54  # input width\n",
    "channels = 3  # RGB channels\n",
    "filters = 16  # number of filters\n",
    "M = 6  # filter width\n",
    "N = 6  # filter height\n",
    "s = 3\n",
    "a = 1"
   ],
   "metadata": {
    "collapsed": false,
    "pycharm": {
     "name": "#%%\n"
    }
   }
  },
  {
   "cell_type": "code",
   "execution_count": null,
   "outputs": [],
   "source": [
    "# from alexnet\n",
    "J = 42  # input length\n",
    "K = 54  # input width\n",
    "P = 1  # padding\n",
    "M = 6  # filter length\n",
    "N = 6  # filter width\n",
    "s = 3  # stride\n",
    "a = 1\n",
    "F = 3  # max pooling width\n",
    "filters = 16"
   ],
   "metadata": {
    "collapsed": false,
    "pycharm": {
     "name": "#%%\n"
    }
   }
  },
  {
   "cell_type": "markdown",
   "source": [],
   "metadata": {
    "collapsed": false,
    "pycharm": {
     "name": "#%% md\n"
    }
   }
  },
  {
   "cell_type": "code",
   "execution_count": null,
   "outputs": [],
   "source": [
    "#\n",
    "width_of_the_next_layer = (a + (J + (2 * P) - M))/s\n",
    "width_of_the_next_layer = ceil(width_of_the_next_layer)\n",
    "width_of_the_next_layer"
   ],
   "metadata": {
    "collapsed": false,
    "pycharm": {
     "name": "#%%\n"
    }
   }
  },
  {
   "cell_type": "markdown",
   "source": [],
   "metadata": {
    "collapsed": false,
    "pycharm": {
     "name": "#%% md\n"
    }
   }
  },
  {
   "cell_type": "code",
   "execution_count": null,
   "outputs": [],
   "source": [
    "weights_per_neuron = a + M * N * 3\n",
    "weights_per_neuron = round(weights_per_neuron)\n",
    "weights_per_neuron"
   ],
   "metadata": {
    "collapsed": false,
    "pycharm": {
     "name": "#%%\n"
    }
   }
  },
  {
   "cell_type": "markdown",
   "source": [],
   "metadata": {
    "collapsed": false,
    "pycharm": {
     "name": "#%% md\n"
    }
   }
  },
  {
   "cell_type": "code",
   "execution_count": null,
   "outputs": [],
   "source": [
    "neurons = width_of_the_next_layer * width_of_the_next_layer * filters\n",
    "neurons"
   ],
   "metadata": {
    "collapsed": false,
    "pycharm": {
     "name": "#%%\n"
    }
   }
  },
  {
   "cell_type": "markdown",
   "source": [],
   "metadata": {
    "collapsed": false,
    "pycharm": {
     "name": "#%% md\n"
    }
   }
  },
  {
   "cell_type": "code",
   "execution_count": null,
   "outputs": [],
   "source": [
    "connections = width_of_the_next_layer * width_of_the_next_layer * filters * weights_per_neuron\n",
    "connections"
   ],
   "metadata": {
    "collapsed": false,
    "pycharm": {
     "name": "#%%\n"
    }
   }
  }
 ],
 "metadata": {
  "kernelspec": {
   "display_name": "Python 3",
   "language": "python",
   "name": "python3"
  },
  "language_info": {
   "codemirror_mode": {
    "name": "ipython",
    "version": 2
   },
   "file_extension": ".py",
   "mimetype": "text/x-python",
   "name": "python",
   "nbconvert_exporter": "python",
   "pygments_lexer": "ipython2",
   "version": "2.7.6"
  }
 },
 "nbformat": 4,
 "nbformat_minor": 0
}