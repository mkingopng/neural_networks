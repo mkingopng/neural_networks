{
 "cells": [
  {
   "cell_type": "code",
   "execution_count": 1,
   "id": "cbb00afc",
   "metadata": {
    "pycharm": {
     "name": "#%%\n"
    }
   },
   "outputs": [],
   "source": [
    "%matplotlib inline"
   ]
  },
  {
   "cell_type": "code",
   "execution_count": 2,
   "id": "33e2d290",
   "metadata": {
    "pycharm": {
     "name": "#%%\n"
    }
   },
   "outputs": [],
   "source": [
    "import torch\n",
    "import torchvision\n",
    "import torchvision.transforms as transforms"
   ]
  },
  {
   "cell_type": "code",
   "execution_count": 3,
   "id": "374f5dc6",
   "metadata": {
    "pycharm": {
     "name": "#%%\n"
    }
   },
   "outputs": [],
   "source": [
    "# TODO: try different values of hyperparameters and check how it will affect the classification performance.\n",
    "\n",
    "batch_size = 128\n",
    "learning_rate = 0.0001"
   ]
  },
  {
   "cell_type": "code",
   "execution_count": 4,
   "id": "84db003e",
   "metadata": {
    "pycharm": {
     "name": "#%%\n"
    }
   },
   "outputs": [],
   "source": [
    "# We normalize the data by its mean and variance.\n",
    "transform = transforms.Compose([\n",
    "    transforms.ToTensor(),\n",
    "    transforms.Normalize((0.1307,), (0.3081,))\n",
    "    ])\n",
    "\n",
    "trainset = torchvision.datasets.MNIST(root='./data', train=True,\n",
    "                                download=True, transform=transform)\n",
    "\n",
    "# training validation split \n",
    "train_set, val_set = torch.utils.data.random_split(trainset, [50000, 10000])\n",
    "\n",
    "trainloader = torch.utils.data.DataLoader(train_set, batch_size=batch_size,\n",
    "                                          shuffle=True, num_workers=2)\n",
    "\n",
    "valloader = torch.utils.data.DataLoader(val_set, batch_size=batch_size,\n",
    "                                        shuffle=False, num_workers=2)\n",
    "\n",
    "testset = torchvision.datasets.MNIST(root='./data', train=False,\n",
    "                                     download=True, transform=transform)\n",
    "\n",
    "testloader = torch.utils.data.DataLoader(testset, batch_size=batch_size,\n",
    "                                         shuffle=False, num_workers=2)"
   ]
  },
  {
   "cell_type": "code",
   "execution_count": 5,
   "id": "dabb2b01",
   "metadata": {
    "pycharm": {
     "name": "#%%\n"
    }
   },
   "outputs": [],
   "source": [
    "import torch.nn as nn\n",
    "import torch.nn.functional as F\n",
    "\n",
    "# TODO: Implement the LeNet according to the description.\n",
    "class LeNet(nn.Module):\n",
    "\n",
    "    def __init__(self):\n",
    "        super(LeNet, self).__init__()\n",
    "        self.conv1 = nn.Conv2d(1, 6, 5, padding=2)\n",
    "        self.conv2 = nn.Conv2d(6, 16, 5)\n",
    "        self.fc1   = nn.Linear(400, 120)\n",
    "        self.fc2   = nn.Linear(120, 84)\n",
    "        self.fc3   = nn.Linear(84, 10)\n",
    "        self.conv1 = nn.Conv2d(1, 6, 5, padding=2)\n",
    "\n",
    "    def forward(self, x):\n",
    "        out = F.relu(self.conv1(x))\n",
    "        out = F.max_pool2d(out, 2)\n",
    "        out = F.relu(self.conv2(out))\n",
    "        out = F.max_pool2d(out, 2)\n",
    "        out = out.view(out.size(0), -1)\n",
    "        out = F.relu(self.fc1(out))\n",
    "        out = F.relu(self.fc2(out))\n",
    "        out = self.fc3(out)\n",
    "        return out\n",
    "\n",
    "# We've implemented a multi-layer perceptron model so that you can try to run the training algorithm\n",
    "# and compare it with LeNet in terms of the classification performance.\n",
    "\n",
    "class MLP(nn.Module):\n",
    "\n",
    "    def __init__(self):\n",
    "        super(MLP, self).__init__()\n",
    "        self.input = nn.Linear(28 * 28, 512)\n",
    "        self.hidden = nn.Linear(512, 256)\n",
    "        self.output = nn.Linear(256, 10)\n",
    "    \n",
    "    def forward(self, x):\n",
    "        x = x.view(-1, 28 * 28)\n",
    "        x = torch.sigmoid(self.input(x))\n",
    "        x = torch.sigmoid(self.hidden(x))\n",
    "        x = self.output(x)\n",
    "        return x\n",
    "\n",
    "net = MLP()\n",
    "\n",
    "# Uncomment this line after you implement it\n",
    "net = LeNet()"
   ]
  },
  {
   "cell_type": "code",
   "execution_count": 6,
   "id": "a24b0231",
   "metadata": {
    "pycharm": {
     "name": "#%%\n"
    }
   },
   "outputs": [],
   "source": [
    "import torch.optim as optim\n",
    "\n",
    "criterion = nn.CrossEntropyLoss()\n",
    "optimizer = optim.SGD(net.parameters(), lr=learning_rate, momentum=0.9)"
   ]
  },
  {
   "cell_type": "code",
   "execution_count": 7,
   "id": "5ecd187b",
   "metadata": {
    "pycharm": {
     "name": "#%%\n"
    }
   },
   "outputs": [
    {
     "name": "stdout",
     "output_type": "stream",
     "text": [
      "Epoch 0\n",
      "Training Loss: 0.575532, Training Acc: 0.095140, Validation Acc: 0.096100, Test Acc: 0.100500\n",
      "Epoch 1\n",
      "Training Loss: 0.573589, Training Acc: 0.095980, Validation Acc: 0.095600, Test Acc: 0.100400\n",
      "Epoch 2\n",
      "Training Loss: 0.571227, Training Acc: 0.131200, Validation Acc: 0.187000, Test Acc: 0.192200\n",
      "Epoch 3\n",
      "Training Loss: 0.568038, Training Acc: 0.252520, Validation Acc: 0.310300, Test Acc: 0.318800\n",
      "Epoch 4\n",
      "Training Loss: 0.562842, Training Acc: 0.381020, Validation Acc: 0.453200, Test Acc: 0.457200\n",
      "Epoch 5\n",
      "Training Loss: 0.553123, Training Acc: 0.494660, Validation Acc: 0.527200, Test Acc: 0.532300\n",
      "Epoch 6\n",
      "Training Loss: 0.532254, Training Acc: 0.564060, Validation Acc: 0.596400, Test Acc: 0.607500\n",
      "Epoch 7\n",
      "Training Loss: 0.477192, Training Acc: 0.645320, Validation Acc: 0.704200, Test Acc: 0.719100\n",
      "Epoch 8\n",
      "Training Loss: 0.345636, Training Acc: 0.743960, Validation Acc: 0.776000, Test Acc: 0.785300\n",
      "Epoch 9\n",
      "Training Loss: 0.206962, Training Acc: 0.804780, Validation Acc: 0.822200, Test Acc: 0.834300\n",
      "Finished Training\n"
     ]
    }
   ],
   "source": [
    "for epoch in range(10):  # loop over the dataset multiple times\n",
    "    train_loss = 0.0\n",
    "    train_acc = 0.0\n",
    "    val_loss = 0.0\n",
    "    val_acc = 0.0\n",
    "    test_loss = 0.0\n",
    "    test_acc = 0.0\n",
    "    \n",
    "    for i, data in enumerate(trainloader, 0):\n",
    "        # get the inputs; data is a list of [inputs, labels]\n",
    "        inputs, labels = data\n",
    "\n",
    "        # zero the parameter gradients\n",
    "        optimizer.zero_grad()\n",
    "\n",
    "        # forward + backward + optimize\n",
    "        outputs = net(inputs)\n",
    "        loss = criterion(outputs, labels)\n",
    "        loss.backward()\n",
    "        optimizer.step()\n",
    "\n",
    "        # statistics\n",
    "        train_loss += loss.item()\n",
    "        pred = torch.max(outputs, 1)[1]\n",
    "        train_correct = (pred == labels).sum()\n",
    "        train_acc += train_correct.item()\n",
    "\n",
    "    # To get the best learned model, we need to do some statistics.\n",
    "    # After training, we pick the model with the best validation accuracy.\n",
    "    with torch.no_grad():\n",
    "        net.eval()\n",
    "\n",
    "        for inputs, labels in valloader:\n",
    "\n",
    "            predicts = net(inputs)\n",
    "\n",
    "            loss = criterion(predicts, labels)\n",
    "            val_loss += loss.item()\n",
    "            pred = torch.max(predicts, 1)[1]\n",
    "            val_correct = (pred == labels).sum()\n",
    "            val_acc += val_correct.item()\n",
    "\n",
    "        for inputs, labels in testloader:\n",
    "\n",
    "            predicts = net(inputs)\n",
    "            pred = torch.max(predicts, 1)[1]\n",
    "            test_correct = (pred == labels).sum()\n",
    "            test_acc += test_correct.item()\n",
    "\n",
    "        net.train()\n",
    "    print(\"Epoch %d\" % epoch )\n",
    "\n",
    "    print('Training Loss: {:.6f}, Training Acc: {:.6f}, Validation Acc: {:.6f}, Test Acc: {:.6f}'.format(train_loss / (len(train_set)) * 32, train_acc / (len(train_set)), val_acc / (len(val_set)), test_acc / (len(testset))))\n",
    "\n",
    "print('Finished Training')"
   ]
  }
 ],
 "metadata": {
  "kernelspec": {
   "display_name": "Python 3 (ipykernel)",
   "language": "python",
   "name": "python3"
  },
  "language_info": {
   "codemirror_mode": {
    "name": "ipython",
    "version": 3
   },
   "file_extension": ".py",
   "mimetype": "text/x-python",
   "name": "python",
   "nbconvert_exporter": "python",
   "pygments_lexer": "ipython3",
   "version": "3.10.4"
  }
 },
 "nbformat": 4,
 "nbformat_minor": 5
}